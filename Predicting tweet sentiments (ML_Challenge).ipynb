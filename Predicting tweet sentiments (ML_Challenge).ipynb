{
 "cells": [
  {
   "cell_type": "markdown",
   "metadata": {},
   "source": [
    "# Problem statement\n",
    "\n",
    "While every day should be Mothers' Day [’cuz they rock], we are all guilty of taking to social media to post mushy messages or images on the second Sunday of May for our mothers. However, the Human Resources team of your organization wishes to celebrate and honor all moms currently employed at the company with a special monthly event. For one of such events, they have reached out to your team to curate and categorize Mothers’ Day-related tweets from across the globe.\n",
    "\n",
    "As a Machine Learning Engineer, your task is to build a sophisticated sentiment analysis-based NLP model that can classify sentiments of tweets into positive, negative, and neutral.\n",
    "\n",
    "# Dataset\n",
    "\n",
    "The dataset consists of various parameters such as text and language of a tweet, the number of times it was retweeted, and the Twitter handle of the author.\n",
    "\n",
    "The benefits of practicing this problem by using Machine Learning techniques are as follows:\n",
    "\n",
    "This challenge will encourage you to apply your Machine Learning skills to build models that can process a receipt and output the total amount mentioned in it.\n",
    "This challenge will help you enhance your knowledge of Natural Language Processing (NLP). NLP is one of the advanced fields of Machine Learning and Artificial Intelligence.\n",
    "We challenge you to build a model that analyzes sentiments of a tweet and classifies them into positive, negative, and neutral."
   ]
  },
  {
   "cell_type": "code",
   "execution_count": 5,
   "metadata": {},
   "outputs": [
    {
     "name": "stdout",
     "output_type": "stream",
     "text": [
      "Defaulting to user installation because normal site-packages is not writeable\n",
      "Collecting lightgbm\n",
      "  Using cached lightgbm-3.3.2-py3-none-win_amd64.whl (1.0 MB)\n",
      "Requirement already satisfied: scikit-learn!=0.22.0 in c:\\programdata\\anaconda3\\lib\\site-packages (from lightgbm) (1.0.2)\n",
      "Requirement already satisfied: numpy in c:\\programdata\\anaconda3\\lib\\site-packages (from lightgbm) (1.21.5)\n",
      "Requirement already satisfied: wheel in c:\\programdata\\anaconda3\\lib\\site-packages (from lightgbm) (0.37.1)\n",
      "Requirement already satisfied: scipy in c:\\programdata\\anaconda3\\lib\\site-packages (from lightgbm) (1.7.3)\n",
      "Requirement already satisfied: threadpoolctl>=2.0.0 in c:\\programdata\\anaconda3\\lib\\site-packages (from scikit-learn!=0.22.0->lightgbm) (2.2.0)\n",
      "Requirement already satisfied: joblib>=0.11 in c:\\programdata\\anaconda3\\lib\\site-packages (from scikit-learn!=0.22.0->lightgbm) (1.1.0)\n",
      "Installing collected packages: lightgbm\n",
      "Successfully installed lightgbm-3.3.2\n"
     ]
    }
   ],
   "source": [
    "!pip install lightgbm"
   ]
  },
  {
   "cell_type": "code",
   "execution_count": 6,
   "metadata": {
    "colab": {
     "base_uri": "https://localhost:8080/",
     "height": 89
    },
    "colab_type": "code",
    "id": "xtWaH0i5Pyfd",
    "outputId": "7fefd0e8-3ebb-40bb-a94d-70ec9e86fcf2"
   },
   "outputs": [
    {
     "name": "stderr",
     "output_type": "stream",
     "text": [
      "C:\\Users\\HP\\AppData\\Local\\Temp\\ipykernel_9048\\2293820135.py:12: TqdmDeprecationWarning: This function will be removed in tqdm==5.0.0\n",
      "Please use `tqdm.notebook.*` instead of `tqdm._tqdm_notebook.*`\n",
      "  from tqdm._tqdm_notebook import tqdm_notebook\n"
     ]
    }
   ],
   "source": [
    "import re\n",
    "import os\n",
    "import nltk\n",
    "import warnings\n",
    "import numpy as np\n",
    "import pandas as pd\n",
    "from tqdm import tqdm\n",
    "from nltk.corpus import wordnet\n",
    "from collections import Counter\n",
    "from lightgbm import LGBMClassifier\n",
    "from matplotlib import pyplot as plt\n",
    "from tqdm._tqdm_notebook import tqdm_notebook\n",
    "from sklearn.decomposition import TruncatedSVD\n",
    "from sklearn.model_selection import GridSearchCV\n",
    "from sklearn.metrics import classification_report\n",
    "from sklearn.model_selection import cross_val_score\n",
    "from sklearn.model_selection import StratifiedKFold\n",
    "from sklearn.feature_extraction.text import TfidfVectorizer\n",
    "\n",
    "\n",
    "warnings.filterwarnings('ignore')\n",
    "tqdm_notebook.pandas()"
   ]
  },
  {
   "cell_type": "code",
   "execution_count": 7,
   "metadata": {
    "colab": {},
    "colab_type": "code",
    "id": "MwazWoWOPyiB"
   },
   "outputs": [],
   "source": [
    "# Import Dataset\n",
    "train = pd.read_csv(r'C:\\Users\\HP\\Desktop\\train.csv')\n",
    "test = pd.read_csv(r'C:\\Users\\HP\\Desktop\\test.csv')"
   ]
  },
  {
   "cell_type": "code",
   "execution_count": 8,
   "metadata": {
    "colab": {
     "base_uri": "https://localhost:8080/",
     "height": 206
    },
    "colab_type": "code",
    "id": "iP28iPsgTDst",
    "outputId": "0ce2127c-e93d-4778-8e3a-0760bee1db1c"
   },
   "outputs": [
    {
     "data": {
      "text/html": [
       "<div>\n",
       "<style scoped>\n",
       "    .dataframe tbody tr th:only-of-type {\n",
       "        vertical-align: middle;\n",
       "    }\n",
       "\n",
       "    .dataframe tbody tr th {\n",
       "        vertical-align: top;\n",
       "    }\n",
       "\n",
       "    .dataframe thead th {\n",
       "        text-align: right;\n",
       "    }\n",
       "</style>\n",
       "<table border=\"1\" class=\"dataframe\">\n",
       "  <thead>\n",
       "    <tr style=\"text-align: right;\">\n",
       "      <th></th>\n",
       "      <th>id</th>\n",
       "      <th>original_text</th>\n",
       "      <th>lang</th>\n",
       "      <th>retweet_count</th>\n",
       "      <th>original_author</th>\n",
       "      <th>sentiment_class</th>\n",
       "    </tr>\n",
       "  </thead>\n",
       "  <tbody>\n",
       "    <tr>\n",
       "      <th>0</th>\n",
       "      <td>1.245025e+18</td>\n",
       "      <td>Happy #MothersDay to all you amazing mothers o...</td>\n",
       "      <td>en</td>\n",
       "      <td>0</td>\n",
       "      <td>BeenXXPired</td>\n",
       "      <td>0</td>\n",
       "    </tr>\n",
       "    <tr>\n",
       "      <th>1</th>\n",
       "      <td>1.245759e+18</td>\n",
       "      <td>Happy Mothers Day Mum - I'm sorry I can't be t...</td>\n",
       "      <td>en</td>\n",
       "      <td>1</td>\n",
       "      <td>FestiveFeeling</td>\n",
       "      <td>0</td>\n",
       "    </tr>\n",
       "    <tr>\n",
       "      <th>2</th>\n",
       "      <td>1.246087e+18</td>\n",
       "      <td>Happy mothers day To all This doing a mothers ...</td>\n",
       "      <td>en</td>\n",
       "      <td>0</td>\n",
       "      <td>KrisAllenSak</td>\n",
       "      <td>-1</td>\n",
       "    </tr>\n",
       "    <tr>\n",
       "      <th>3</th>\n",
       "      <td>1.244803e+18</td>\n",
       "      <td>Happy mothers day to this beautiful woman...ro...</td>\n",
       "      <td>en</td>\n",
       "      <td>0</td>\n",
       "      <td>Queenuchee</td>\n",
       "      <td>0</td>\n",
       "    </tr>\n",
       "    <tr>\n",
       "      <th>4</th>\n",
       "      <td>1.244876e+18</td>\n",
       "      <td>Remembering the 3 most amazing ladies who made...</td>\n",
       "      <td>en</td>\n",
       "      <td>0</td>\n",
       "      <td>brittan17446794</td>\n",
       "      <td>-1</td>\n",
       "    </tr>\n",
       "  </tbody>\n",
       "</table>\n",
       "</div>"
      ],
      "text/plain": [
       "             id                                      original_text lang  \\\n",
       "0  1.245025e+18  Happy #MothersDay to all you amazing mothers o...   en   \n",
       "1  1.245759e+18  Happy Mothers Day Mum - I'm sorry I can't be t...   en   \n",
       "2  1.246087e+18  Happy mothers day To all This doing a mothers ...   en   \n",
       "3  1.244803e+18  Happy mothers day to this beautiful woman...ro...   en   \n",
       "4  1.244876e+18  Remembering the 3 most amazing ladies who made...   en   \n",
       "\n",
       "  retweet_count  original_author  sentiment_class  \n",
       "0             0      BeenXXPired                0  \n",
       "1             1   FestiveFeeling                0  \n",
       "2             0     KrisAllenSak               -1  \n",
       "3             0       Queenuchee                0  \n",
       "4             0  brittan17446794               -1  "
      ]
     },
     "execution_count": 8,
     "metadata": {},
     "output_type": "execute_result"
    }
   ],
   "source": [
    "train.head()"
   ]
  },
  {
   "cell_type": "code",
   "execution_count": 9,
   "metadata": {
    "colab": {
     "base_uri": "https://localhost:8080/",
     "height": 334
    },
    "colab_type": "code",
    "id": "Y0DjlcyPLxKM",
    "outputId": "bbd81146-d751-4a08-8163-79fa6d292003"
   },
   "outputs": [
    {
     "data": {
      "text/plain": [
       "(array([ 769.,    0.,    0.,    0.,    0., 1701.,    0.,    0.,    0.,\n",
       "         765.]),\n",
       " array([-1. , -0.8, -0.6, -0.4, -0.2,  0. ,  0.2,  0.4,  0.6,  0.8,  1. ]),\n",
       " <BarContainer object of 10 artists>)"
      ]
     },
     "execution_count": 9,
     "metadata": {},
     "output_type": "execute_result"
    },
    {
     "data": {
      "image/png": "[encoded data removed]",
      "text/plain": [
       "<Figure size 432x288 with 1 Axes>"
      ]
     },
     "metadata": {
      "needs_background": "light"
     },
     "output_type": "display_data"
    }
   ],
   "source": [
    "plt.hist(train['sentiment_class']) # dataset is imbalanced"
   ]
  },
  {
   "cell_type": "code",
   "execution_count": 10,
   "metadata": {
    "colab": {},
    "colab_type": "code",
    "id": "57ZTVv4rYf_m"
   },
   "outputs": [],
   "source": [
    "test_id = test.id"
   ]
  },
  {
   "cell_type": "code",
   "execution_count": 11,
   "metadata": {
    "colab": {},
    "colab_type": "code",
    "id": "lXZbYD-LS8_A"
   },
   "outputs": [],
   "source": [
    "# merge train and test set\n",
    "train['train'] = \"YES\"\n",
    "test['train'] = \"NO\""
   ]
  },
  {
   "cell_type": "code",
   "execution_count": 12,
   "metadata": {
    "colab": {},
    "colab_type": "code",
    "id": "Rv7WeFmUPyng"
   },
   "outputs": [],
   "source": [
    "all_data = pd.concat([train,test],ignore_index=True)"
   ]
  },
  {
   "cell_type": "code",
   "execution_count": 13,
   "metadata": {
    "colab": {
     "base_uri": "https://localhost:8080/",
     "height": 34
    },
    "colab_type": "code",
    "id": "IYu35r6-PytN",
    "outputId": "ba759207-cece-459f-bec6-5e57f1b50574"
   },
   "outputs": [
    {
     "data": {
      "text/plain": [
       "((4622, 7), (3235, 7), (1387, 6))"
      ]
     },
     "execution_count": 13,
     "metadata": {},
     "output_type": "execute_result"
    }
   ],
   "source": [
    "all_data.shape,train.shape, test.shape"
   ]
  },
  {
   "cell_type": "code",
   "execution_count": 14,
   "metadata": {
    "colab": {
     "base_uri": "https://localhost:8080/",
     "height": 293
    },
    "colab_type": "code",
    "id": "_e1F25HNQkZ7",
    "outputId": "f592ae3a-efbc-4193-875c-1124a1c49a9f"
   },
   "outputs": [
    {
     "data": {
      "text/html": [
       "<div>\n",
       "<style scoped>\n",
       "    .dataframe tbody tr th:only-of-type {\n",
       "        vertical-align: middle;\n",
       "    }\n",
       "\n",
       "    .dataframe tbody tr th {\n",
       "        vertical-align: top;\n",
       "    }\n",
       "\n",
       "    .dataframe thead th {\n",
       "        text-align: right;\n",
       "    }\n",
       "</style>\n",
       "<table border=\"1\" class=\"dataframe\">\n",
       "  <thead>\n",
       "    <tr style=\"text-align: right;\">\n",
       "      <th></th>\n",
       "      <th>id</th>\n",
       "      <th>original_text</th>\n",
       "      <th>lang</th>\n",
       "      <th>retweet_count</th>\n",
       "      <th>original_author</th>\n",
       "      <th>sentiment_class</th>\n",
       "      <th>train</th>\n",
       "    </tr>\n",
       "  </thead>\n",
       "  <tbody>\n",
       "    <tr>\n",
       "      <th>4617</th>\n",
       "      <td>1.245219e+18</td>\n",
       "      <td>Happy Mother’s Day you crazy bitch I’m sorry c...</td>\n",
       "      <td>en</td>\n",
       "      <td>0</td>\n",
       "      <td>MarlosFinds</td>\n",
       "      <td>NaN</td>\n",
       "      <td>NO</td>\n",
       "    </tr>\n",
       "    <tr>\n",
       "      <th>4618</th>\n",
       "      <td>1.245882e+18</td>\n",
       "      <td>Mum can't get to the bingo, so we brought the ...</td>\n",
       "      <td>-0.8393813523</td>\n",
       "      <td>en</td>\n",
       "      <td>1</td>\n",
       "      <td>NaN</td>\n",
       "      <td>NO</td>\n",
       "    </tr>\n",
       "    <tr>\n",
       "      <th>4619</th>\n",
       "      <td>1.246461e+18</td>\n",
       "      <td>Despite all this bullshit today has been one o...</td>\n",
       "      <td>en</td>\n",
       "      <td>0</td>\n",
       "      <td>LToddWood</td>\n",
       "      <td>NaN</td>\n",
       "      <td>NO</td>\n",
       "    </tr>\n",
       "    <tr>\n",
       "      <th>4620</th>\n",
       "      <td>1.246245e+18</td>\n",
       "      <td>Happy Mothers Day Firstly to my Queen daniele_...</td>\n",
       "      <td>en</td>\n",
       "      <td>0</td>\n",
       "      <td>LToddWood</td>\n",
       "      <td>NaN</td>\n",
       "      <td>NO</td>\n",
       "    </tr>\n",
       "    <tr>\n",
       "      <th>4621</th>\n",
       "      <td>1.245178e+18</td>\n",
       "      <td>Mothers Day Walk When you live in a tiny villa...</td>\n",
       "      <td>en</td>\n",
       "      <td>0</td>\n",
       "      <td>HerHistoryatYC</td>\n",
       "      <td>NaN</td>\n",
       "      <td>NO</td>\n",
       "    </tr>\n",
       "  </tbody>\n",
       "</table>\n",
       "</div>"
      ],
      "text/plain": [
       "                id                                      original_text  \\\n",
       "4617  1.245219e+18  Happy Mother’s Day you crazy bitch I’m sorry c...   \n",
       "4618  1.245882e+18  Mum can't get to the bingo, so we brought the ...   \n",
       "4619  1.246461e+18  Despite all this bullshit today has been one o...   \n",
       "4620  1.246245e+18  Happy Mothers Day Firstly to my Queen daniele_...   \n",
       "4621  1.245178e+18  Mothers Day Walk When you live in a tiny villa...   \n",
       "\n",
       "               lang retweet_count original_author  sentiment_class train  \n",
       "4617             en             0     MarlosFinds              NaN    NO  \n",
       "4618  -0.8393813523            en               1              NaN    NO  \n",
       "4619             en             0       LToddWood              NaN    NO  \n",
       "4620             en             0       LToddWood              NaN    NO  \n",
       "4621             en             0  HerHistoryatYC              NaN    NO  "
      ]
     },
     "execution_count": 14,
     "metadata": {},
     "output_type": "execute_result"
    }
   ],
   "source": [
    "all_data.tail()"
   ]
  },
  {
   "cell_type": "code",
   "execution_count": 15,
   "metadata": {
    "colab": {},
    "colab_type": "code",
    "id": "ZJMQCY7lPyp1"
   },
   "outputs": [],
   "source": [
    "#function which are cleaning the texts from the dataset\n",
    "def remove_no_space(text):\n",
    "    REPLACE_NO_SPACE = re.compile(\"(\\.)|(\\t)|(\\;)|(\\:)|(\\!)|(\\?)|(\\,)|(#)|(')|(\\\")|(\\()|(\\))|(\\[)|(\\])|(\\d+)\")\n",
    "    NO_SPACE = \"\"\n",
    "    return re.sub(REPLACE_NO_SPACE,NO_SPACE, text)\n",
    "def remove_with_space(text):\n",
    "    REPLACE_WITH_SPACE = re.compile(\"(<b\\s*/><b\\s*/>)|(\\-)|(\\/)|(\\n)\")\n",
    "    SPACE = \" \"\n",
    "    return re.sub(REPLACE_WITH_SPACE,SPACE, text)\n",
    "def remove_access_space(text):\n",
    "    return re.sub(\"\\s\\s+\" , \" \", text)\n",
    "\n",
    "def remove_link(text):\n",
    "  return re.sub(r'^https?:\\/\\/.*[\\r\\n]*', \" \", text)\n",
    "\n",
    "def lower_case(text):\n",
    "    return text.lower()"
   ]
  },
  {
   "cell_type": "code",
   "execution_count": 16,
   "metadata": {
    "colab": {
     "base_uri": "https://localhost:8080/",
     "height": 264,
     "referenced_widgets": [
      "40fb47e219ea4a96a336e78959bb2dff",
      "a8f357035671411f9f43a131c8f6fe14",
      "eec120220dd14f8a8ec7ab12c28b9196",
      "a84115cb7e7f4a208b3bc5c05cf3182a",
      "a962ba1a63ab4717b4eec2a6f9de1603",
      "453efb16560a4c8096e63b3425696bac",
      "5032076e2939487bad098b5fdbfc51a6",
      "31d33cdacaec4823b343d01aed93039b",
      "2ad751b560684389ab0332d1c97167ff",
      "a750eb7f37aa49e9bb73475f1e12d47d",
      "d0ef48c3ff70420ab5c4eac35cafcf32",
      "13eab3992c20483187fa004645082d6f",
      "99b63f9347af4aa1847d8b0049d22d09",
      "1c8d4e6d66414dad8f51c03ede0ad8af",
      "10a5d762e053449e8f253f643905a272",
      "d60bd90323dc4300b52e5827c69186b3",
      "00fc4f7c43eb408bace895767dd93185",
      "5c0bc16d9e6b483faf5d611130409e3c",
      "4e7f59a63b324425aa7f53510b054e47",
      "5db0408bf7c2483c9eff3edf6220bc87",
      "3c66279bbc334186ba3059ef92b39701",
      "9759bb6b29c64305bc4cf4d6ee43f800",
      "db0603691ec2492e9530b761b17a56ff",
      "340b461cab6045f489f4993b94b7ede8",
      "cd04527e3cbd4147ba3e124b779dc803",
      "824c3d33e06247abbc53e3f08ea280c8",
      "070f75f246dd49d38547780d421e7ef8",
      "cff6bc6015434aadaa2ef15b35c3b836",
      "67ab5aee81ad41e59991997ae4ac31a9",
      "464fadcab29d4cd08b08f985c796297e",
      "6af5d4ae3f2846a8b459960c124f2688",
      "4b3b61d7357648639f3f63af7933da43",
      "91f468df3f1043c298ce39c24662aad5",
      "755f6f021407413b9937ffcab65e151e",
      "b7d9bcbca2d64b97b38be7a85a485bc6",
      "38764c6bf28d4d4fb25340e40fe20f8c",
      "d8b5f82a58964e469bb7471c538ff770",
      "f4d7c0439e26447688c7b7f120d40f7b",
      "0fd29fd89384466b9ed0a88ad5e4714d",
      "31d988c4a7354834b430fdc350288649"
     ]
    },
    "colab_type": "code",
    "id": "hsHvB9fOPylV",
    "outputId": "4ddbe4c6-4aed-42f2-cf09-88e8f1b334dd"
   },
   "outputs": [
    {
     "data": {
      "application/vnd.jupyter.widget-view+json": {
       "model_id": "15a820b041544822bca6606ff6d3c062",
       "version_major": 2,
       "version_minor": 0
      },
      "text/plain": [
       "  0%|          | 0/4622 [00:00<?, ?it/s]"
      ]
     },
     "metadata": {},
     "output_type": "display_data"
    },
    {
     "data": {
      "application/vnd.jupyter.widget-view+json": {
       "model_id": "67405df2553d407b9a8183b22642e661",
       "version_major": 2,
       "version_minor": 0
      },
      "text/plain": [
       "  0%|          | 0/4622 [00:00<?, ?it/s]"
      ]
     },
     "metadata": {},
     "output_type": "display_data"
    },
    {
     "data": {
      "application/vnd.jupyter.widget-view+json": {
       "model_id": "c334adc1cc3b4391808e2ac3e445243c",
       "version_major": 2,
       "version_minor": 0
      },
      "text/plain": [
       "  0%|          | 0/4622 [00:00<?, ?it/s]"
      ]
     },
     "metadata": {},
     "output_type": "display_data"
    },
    {
     "data": {
      "application/vnd.jupyter.widget-view+json": {
       "model_id": "793ebebcf1914c6f99445de37c5c921f",
       "version_major": 2,
       "version_minor": 0
      },
      "text/plain": [
       "  0%|          | 0/4622 [00:00<?, ?it/s]"
      ]
     },
     "metadata": {},
     "output_type": "display_data"
    },
    {
     "data": {
      "application/vnd.jupyter.widget-view+json": {
       "model_id": "e0a8bec41d664cd484e3c339f58fd9fc",
       "version_major": 2,
       "version_minor": 0
      },
      "text/plain": [
       "  0%|          | 0/4622 [00:00<?, ?it/s]"
      ]
     },
     "metadata": {},
     "output_type": "display_data"
    }
   ],
   "source": [
    "all_data['original_text'] = all_data['original_text'].progress_apply(lower_case)\n",
    "all_data['original_text'] = all_data['original_text'].progress_apply(remove_link)\n",
    "all_data['original_text'] = all_data['original_text'].progress_apply(remove_with_space)\n",
    "all_data['original_text'] = all_data['original_text'].progress_apply(remove_no_space)\n",
    "all_data['original_text'] = all_data['original_text'].progress_apply(remove_access_space)\n"
   ]
  },
  {
   "cell_type": "code",
   "execution_count": 17,
   "metadata": {
    "colab": {},
    "colab_type": "code",
    "id": "PS2kiO41PIwc"
   },
   "outputs": [],
   "source": [
    "# converting into categories\n",
    "all_data.loc[all_data['lang']!='en','lang'] = 0\n",
    "all_data.loc[all_data['lang']=='en','lang'] = 1"
   ]
  },
  {
   "cell_type": "code",
   "execution_count": 18,
   "metadata": {
    "colab": {},
    "colab_type": "code",
    "id": "nHtTq0tWW3-N"
   },
   "outputs": [],
   "source": [
    "all_data.loc[all_data['retweet_count']=='en','retweet_count'] = 0\n",
    "all_data.loc[all_data['retweet_count']=='encouraging- thanks. more2come','retweet_count'] = 0\n",
    "all_data.loc[all_data['retweet_count']==' have no other means of occasional transportation! Mary.','retweet_count'] = 0\n",
    "all_data.loc[all_data['retweet_count']==' Shop &lt','retweet_count'] = 0\n",
    "all_data.loc[all_data['retweet_count']==' He\\'s told me I don\\'t understand what it means to be a special agent LOL','retweet_count'] = 0\n",
    "all_data.loc[all_data['retweet_count']==' Day//Gift for Moms//Personalized Shirt','retweet_count'] = 0\n",
    "all_data.loc[all_data['retweet_count']==' BLOOD OF PROTECTION AROUND YOU GUYS','retweet_count'] = 0"
   ]
  },
  {
   "cell_type": "code",
   "execution_count": 19,
   "metadata": {
    "colab": {},
    "colab_type": "code",
    "id": "PxezTSvjX-0L"
   },
   "outputs": [],
   "source": [
    "all_data['retweet_count'].fillna(0,inplace=True)"
   ]
  },
  {
   "cell_type": "code",
   "execution_count": 20,
   "metadata": {
    "colab": {},
    "colab_type": "code",
    "id": "nTZnbPb1YF1Z"
   },
   "outputs": [],
   "source": [
    "all_data['retweet_count'] = all_data['retweet_count'].astype(np.float16)"
   ]
  },
  {
   "cell_type": "code",
   "execution_count": 21,
   "metadata": {
    "colab": {},
    "colab_type": "code",
    "id": "f7-EXLOZYxnN"
   },
   "outputs": [],
   "source": [
    "all_data.loc[all_data['retweet_count']< 1,'retweet_count'] = 0"
   ]
  },
  {
   "cell_type": "code",
   "execution_count": 22,
   "metadata": {
    "colab": {},
    "colab_type": "code",
    "id": "n54br_sURqug"
   },
   "outputs": [],
   "source": [
    "#Split into train and test dataframes\n",
    "train = all_data[all_data['train']==\"YES\"]\n",
    "test = all_data[all_data['train']==\"NO\"]"
   ]
  },
  {
   "cell_type": "code",
   "execution_count": 23,
   "metadata": {
    "colab": {
     "base_uri": "https://localhost:8080/",
     "height": 275
    },
    "colab_type": "code",
    "id": "hCDs2f4BqYr3",
    "outputId": "449ae5a9-b927-4554-b9c8-92e101e06073"
   },
   "outputs": [
    {
     "data": {
      "text/html": [
       "<div>\n",
       "<style scoped>\n",
       "    .dataframe tbody tr th:only-of-type {\n",
       "        vertical-align: middle;\n",
       "    }\n",
       "\n",
       "    .dataframe tbody tr th {\n",
       "        vertical-align: top;\n",
       "    }\n",
       "\n",
       "    .dataframe thead th {\n",
       "        text-align: right;\n",
       "    }\n",
       "</style>\n",
       "<table border=\"1\" class=\"dataframe\">\n",
       "  <thead>\n",
       "    <tr style=\"text-align: right;\">\n",
       "      <th></th>\n",
       "      <th>id</th>\n",
       "      <th>original_text</th>\n",
       "      <th>lang</th>\n",
       "      <th>retweet_count</th>\n",
       "      <th>original_author</th>\n",
       "      <th>sentiment_class</th>\n",
       "      <th>train</th>\n",
       "    </tr>\n",
       "  </thead>\n",
       "  <tbody>\n",
       "    <tr>\n",
       "      <th>0</th>\n",
       "      <td>1.245025e+18</td>\n",
       "      <td>happy mothersday to all you amazing mothers ou...</td>\n",
       "      <td>1</td>\n",
       "      <td>0.0</td>\n",
       "      <td>BeenXXPired</td>\n",
       "      <td>0.0</td>\n",
       "      <td>YES</td>\n",
       "    </tr>\n",
       "    <tr>\n",
       "      <th>1</th>\n",
       "      <td>1.245759e+18</td>\n",
       "      <td>happy mothers day mum im sorry i cant be there...</td>\n",
       "      <td>1</td>\n",
       "      <td>1.0</td>\n",
       "      <td>FestiveFeeling</td>\n",
       "      <td>0.0</td>\n",
       "      <td>YES</td>\n",
       "    </tr>\n",
       "    <tr>\n",
       "      <th>2</th>\n",
       "      <td>1.246087e+18</td>\n",
       "      <td>happy mothers day to all this doing a mothers ...</td>\n",
       "      <td>1</td>\n",
       "      <td>0.0</td>\n",
       "      <td>KrisAllenSak</td>\n",
       "      <td>-1.0</td>\n",
       "      <td>YES</td>\n",
       "    </tr>\n",
       "    <tr>\n",
       "      <th>3</th>\n",
       "      <td>1.244803e+18</td>\n",
       "      <td>happy mothers day to this beautiful womanroyal...</td>\n",
       "      <td>1</td>\n",
       "      <td>0.0</td>\n",
       "      <td>Queenuchee</td>\n",
       "      <td>0.0</td>\n",
       "      <td>YES</td>\n",
       "    </tr>\n",
       "    <tr>\n",
       "      <th>4</th>\n",
       "      <td>1.244876e+18</td>\n",
       "      <td>remembering the most amazing ladies who made m...</td>\n",
       "      <td>1</td>\n",
       "      <td>0.0</td>\n",
       "      <td>brittan17446794</td>\n",
       "      <td>-1.0</td>\n",
       "      <td>YES</td>\n",
       "    </tr>\n",
       "  </tbody>\n",
       "</table>\n",
       "</div>"
      ],
      "text/plain": [
       "             id                                      original_text lang  \\\n",
       "0  1.245025e+18  happy mothersday to all you amazing mothers ou...    1   \n",
       "1  1.245759e+18  happy mothers day mum im sorry i cant be there...    1   \n",
       "2  1.246087e+18  happy mothers day to all this doing a mothers ...    1   \n",
       "3  1.244803e+18  happy mothers day to this beautiful womanroyal...    1   \n",
       "4  1.244876e+18  remembering the most amazing ladies who made m...    1   \n",
       "\n",
       "   retweet_count  original_author  sentiment_class train  \n",
       "0            0.0      BeenXXPired              0.0   YES  \n",
       "1            1.0   FestiveFeeling              0.0   YES  \n",
       "2            0.0     KrisAllenSak             -1.0   YES  \n",
       "3            0.0       Queenuchee              0.0   YES  \n",
       "4            0.0  brittan17446794             -1.0   YES  "
      ]
     },
     "execution_count": 23,
     "metadata": {},
     "output_type": "execute_result"
    }
   ],
   "source": [
    "train.head()"
   ]
  },
  {
   "cell_type": "code",
   "execution_count": 24,
   "metadata": {
    "colab": {
     "base_uri": "https://localhost:8080/",
     "height": 34
    },
    "colab_type": "code",
    "id": "dTZMfekF6x1E",
    "outputId": "883b2e81-20e0-4241-afb6-15c4369e5f2c"
   },
   "outputs": [
    {
     "data": {
      "text/plain": [
       "(4622, 7)"
      ]
     },
     "execution_count": 24,
     "metadata": {},
     "output_type": "execute_result"
    }
   ],
   "source": [
    "all_data.shape"
   ]
  },
  {
   "cell_type": "code",
   "execution_count": 25,
   "metadata": {
    "colab": {
     "base_uri": "https://localhost:8080/",
     "height": 34
    },
    "colab_type": "code",
    "id": "9LOvK4zURDNp",
    "outputId": "4242a087-96d4-4f11-b44d-32798defaf95"
   },
   "outputs": [
    {
     "data": {
      "text/plain": [
       "(1387, 7)"
      ]
     },
     "execution_count": 25,
     "metadata": {},
     "output_type": "execute_result"
    }
   ],
   "source": [
    "test.shape"
   ]
  },
  {
   "cell_type": "code",
   "execution_count": 26,
   "metadata": {
    "colab": {},
    "colab_type": "code",
    "id": "3nkQWTMCZs74"
   },
   "outputs": [],
   "source": [
    "test.reset_index(drop=True, inplace=True)"
   ]
  },
  {
   "cell_type": "markdown",
   "metadata": {
    "colab_type": "text",
    "id": "aoe_BeIt1eiY"
   },
   "source": [
    "# Preparing train/test dataset :"
   ]
  },
  {
   "cell_type": "code",
   "execution_count": 27,
   "metadata": {
    "colab": {},
    "colab_type": "code",
    "id": "a2kbgZYEUEw9"
   },
   "outputs": [],
   "source": [
    "train.drop(columns=['train'],inplace=True)\n",
    "test.drop(columns=['train'],inplace=True)"
   ]
  },
  {
   "cell_type": "markdown",
   "metadata": {
    "colab_type": "text",
    "id": "D3z5CE-Y2JWX"
   },
   "source": [
    "## TrainSet"
   ]
  },
  {
   "cell_type": "code",
   "execution_count": 28,
   "metadata": {
    "colab": {},
    "colab_type": "code",
    "id": "53mY3lWYSVJR"
   },
   "outputs": [],
   "source": [
    "tfidf_vec = TfidfVectorizer(stop_words='english',\n",
    "                            ngram_range=(1,4), \n",
    "                            analyzer='word',\n",
    "                            max_df = .9,\n",
    "                            use_idf=1, \n",
    "                            sublinear_tf=1, \n",
    "                            min_df = 20, \n",
    "                            strip_accents='ascii')\n",
    "\n",
    "full_tfidf = tfidf_vec.fit_transform(train['original_text'].values.tolist() + test['original_text'].values.tolist())\n",
    "train_tfidf = tfidf_vec.transform(train['original_text'].values.tolist())"
   ]
  },
  {
   "cell_type": "code",
   "execution_count": 29,
   "metadata": {
    "colab": {
     "base_uri": "https://localhost:8080/",
     "height": 34
    },
    "colab_type": "code",
    "id": "fk3XgwVNXz1J",
    "outputId": "997e633f-5327-405c-b0f9-7f25ef3cbf75"
   },
   "outputs": [
    {
     "data": {
      "text/plain": [
       "(3235, 743)"
      ]
     },
     "execution_count": 29,
     "metadata": {},
     "output_type": "execute_result"
    }
   ],
   "source": [
    "train_tfidf.shape"
   ]
  },
  {
   "cell_type": "markdown",
   "metadata": {
    "colab_type": "text",
    "id": "x3eUuO_72Sdn"
   },
   "source": [
    "### Used SVD for dimension reduction"
   ]
  },
  {
   "cell_type": "code",
   "execution_count": 30,
   "metadata": {
    "colab": {
     "base_uri": "https://localhost:8080/",
     "height": 34
    },
    "colab_type": "code",
    "id": "bP4AZXJdUPI0",
    "outputId": "8679e957-feec-407f-cdc0-572f81e39038"
   },
   "outputs": [
    {
     "data": {
      "text/plain": [
       "(3235, 20)"
      ]
     },
     "execution_count": 30,
     "metadata": {},
     "output_type": "execute_result"
    }
   ],
   "source": [
    "n_comp = 20\n",
    "svd_obj = TruncatedSVD(n_components=n_comp)\n",
    "svd_obj.fit(full_tfidf)\n",
    "train_svd = pd.DataFrame(svd_obj.transform(train_tfidf))\n",
    "    \n",
    "train_svd.columns = ['svd_word_'+str(i) for i in range(n_comp)]\n",
    "train_svd.shape"
   ]
  },
  {
   "cell_type": "code",
   "execution_count": 31,
   "metadata": {
    "colab": {
     "base_uri": "https://localhost:8080/",
     "height": 226
    },
    "colab_type": "code",
    "id": "17oz9T45fN04",
    "outputId": "53f0f3bb-bb01-4209-a161-8656fef0734d"
   },
   "outputs": [
    {
     "data": {
      "text/html": [
       "<div>\n",
       "<style scoped>\n",
       "    .dataframe tbody tr th:only-of-type {\n",
       "        vertical-align: middle;\n",
       "    }\n",
       "\n",
       "    .dataframe tbody tr th {\n",
       "        vertical-align: top;\n",
       "    }\n",
       "\n",
       "    .dataframe thead th {\n",
       "        text-align: right;\n",
       "    }\n",
       "</style>\n",
       "<table border=\"1\" class=\"dataframe\">\n",
       "  <thead>\n",
       "    <tr style=\"text-align: right;\">\n",
       "      <th></th>\n",
       "      <th>svd_word_0</th>\n",
       "      <th>svd_word_1</th>\n",
       "      <th>svd_word_2</th>\n",
       "      <th>svd_word_3</th>\n",
       "      <th>svd_word_4</th>\n",
       "      <th>svd_word_5</th>\n",
       "      <th>svd_word_6</th>\n",
       "      <th>svd_word_7</th>\n",
       "      <th>svd_word_8</th>\n",
       "      <th>svd_word_9</th>\n",
       "      <th>svd_word_10</th>\n",
       "      <th>svd_word_11</th>\n",
       "      <th>svd_word_12</th>\n",
       "      <th>svd_word_13</th>\n",
       "      <th>svd_word_14</th>\n",
       "      <th>svd_word_15</th>\n",
       "      <th>svd_word_16</th>\n",
       "      <th>svd_word_17</th>\n",
       "      <th>svd_word_18</th>\n",
       "      <th>svd_word_19</th>\n",
       "    </tr>\n",
       "  </thead>\n",
       "  <tbody>\n",
       "    <tr>\n",
       "      <th>0</th>\n",
       "      <td>0.142591</td>\n",
       "      <td>-0.152380</td>\n",
       "      <td>0.056124</td>\n",
       "      <td>0.191297</td>\n",
       "      <td>-0.109899</td>\n",
       "      <td>0.112765</td>\n",
       "      <td>-0.065901</td>\n",
       "      <td>0.052554</td>\n",
       "      <td>-0.111216</td>\n",
       "      <td>-0.032100</td>\n",
       "      <td>0.069978</td>\n",
       "      <td>0.010409</td>\n",
       "      <td>-0.057227</td>\n",
       "      <td>-0.020363</td>\n",
       "      <td>-0.107702</td>\n",
       "      <td>-0.031636</td>\n",
       "      <td>-0.068162</td>\n",
       "      <td>-0.014483</td>\n",
       "      <td>-0.041962</td>\n",
       "      <td>-0.126977</td>\n",
       "    </tr>\n",
       "    <tr>\n",
       "      <th>1</th>\n",
       "      <td>0.208979</td>\n",
       "      <td>-0.097381</td>\n",
       "      <td>-0.068372</td>\n",
       "      <td>-0.119101</td>\n",
       "      <td>-0.239203</td>\n",
       "      <td>-0.183643</td>\n",
       "      <td>0.014206</td>\n",
       "      <td>0.098559</td>\n",
       "      <td>0.044051</td>\n",
       "      <td>-0.024471</td>\n",
       "      <td>0.012790</td>\n",
       "      <td>0.051580</td>\n",
       "      <td>0.016684</td>\n",
       "      <td>0.028389</td>\n",
       "      <td>-0.013599</td>\n",
       "      <td>-0.031212</td>\n",
       "      <td>0.017041</td>\n",
       "      <td>0.006827</td>\n",
       "      <td>0.060292</td>\n",
       "      <td>-0.006049</td>\n",
       "    </tr>\n",
       "    <tr>\n",
       "      <th>2</th>\n",
       "      <td>0.157722</td>\n",
       "      <td>-0.136449</td>\n",
       "      <td>-0.025809</td>\n",
       "      <td>-0.026698</td>\n",
       "      <td>0.013887</td>\n",
       "      <td>-0.016746</td>\n",
       "      <td>-0.009696</td>\n",
       "      <td>0.012358</td>\n",
       "      <td>-0.021731</td>\n",
       "      <td>-0.068043</td>\n",
       "      <td>0.012956</td>\n",
       "      <td>-0.023452</td>\n",
       "      <td>-0.082886</td>\n",
       "      <td>-0.022577</td>\n",
       "      <td>-0.037181</td>\n",
       "      <td>-0.030758</td>\n",
       "      <td>-0.012114</td>\n",
       "      <td>-0.020762</td>\n",
       "      <td>-0.030915</td>\n",
       "      <td>-0.102981</td>\n",
       "    </tr>\n",
       "    <tr>\n",
       "      <th>3</th>\n",
       "      <td>0.239855</td>\n",
       "      <td>-0.129351</td>\n",
       "      <td>-0.150028</td>\n",
       "      <td>-0.081800</td>\n",
       "      <td>-0.027545</td>\n",
       "      <td>0.026165</td>\n",
       "      <td>0.040333</td>\n",
       "      <td>-0.398070</td>\n",
       "      <td>-0.183764</td>\n",
       "      <td>0.243514</td>\n",
       "      <td>-0.183247</td>\n",
       "      <td>0.521435</td>\n",
       "      <td>-0.190847</td>\n",
       "      <td>0.009463</td>\n",
       "      <td>0.015352</td>\n",
       "      <td>-0.084678</td>\n",
       "      <td>0.020559</td>\n",
       "      <td>-0.037752</td>\n",
       "      <td>-0.189654</td>\n",
       "      <td>0.026758</td>\n",
       "    </tr>\n",
       "    <tr>\n",
       "      <th>4</th>\n",
       "      <td>0.171479</td>\n",
       "      <td>-0.137448</td>\n",
       "      <td>0.024917</td>\n",
       "      <td>-0.048322</td>\n",
       "      <td>-0.089883</td>\n",
       "      <td>0.035509</td>\n",
       "      <td>0.002303</td>\n",
       "      <td>0.005112</td>\n",
       "      <td>0.024472</td>\n",
       "      <td>0.032253</td>\n",
       "      <td>0.018811</td>\n",
       "      <td>-0.002273</td>\n",
       "      <td>-0.006730</td>\n",
       "      <td>-0.023411</td>\n",
       "      <td>-0.021404</td>\n",
       "      <td>-0.012395</td>\n",
       "      <td>-0.016389</td>\n",
       "      <td>0.004871</td>\n",
       "      <td>0.054133</td>\n",
       "      <td>-0.012121</td>\n",
       "    </tr>\n",
       "  </tbody>\n",
       "</table>\n",
       "</div>"
      ],
      "text/plain": [
       "   svd_word_0  svd_word_1  svd_word_2  svd_word_3  svd_word_4  svd_word_5  \\\n",
       "0    0.142591   -0.152380    0.056124    0.191297   -0.109899    0.112765   \n",
       "1    0.208979   -0.097381   -0.068372   -0.119101   -0.239203   -0.183643   \n",
       "2    0.157722   -0.136449   -0.025809   -0.026698    0.013887   -0.016746   \n",
       "3    0.239855   -0.129351   -0.150028   -0.081800   -0.027545    0.026165   \n",
       "4    0.171479   -0.137448    0.024917   -0.048322   -0.089883    0.035509   \n",
       "\n",
       "   svd_word_6  svd_word_7  svd_word_8  svd_word_9  svd_word_10  svd_word_11  \\\n",
       "0   -0.065901    0.052554   -0.111216   -0.032100     0.069978     0.010409   \n",
       "1    0.014206    0.098559    0.044051   -0.024471     0.012790     0.051580   \n",
       "2   -0.009696    0.012358   -0.021731   -0.068043     0.012956    -0.023452   \n",
       "3    0.040333   -0.398070   -0.183764    0.243514    -0.183247     0.521435   \n",
       "4    0.002303    0.005112    0.024472    0.032253     0.018811    -0.002273   \n",
       "\n",
       "   svd_word_12  svd_word_13  svd_word_14  svd_word_15  svd_word_16  \\\n",
       "0    -0.057227    -0.020363    -0.107702    -0.031636    -0.068162   \n",
       "1     0.016684     0.028389    -0.013599    -0.031212     0.017041   \n",
       "2    -0.082886    -0.022577    -0.037181    -0.030758    -0.012114   \n",
       "3    -0.190847     0.009463     0.015352    -0.084678     0.020559   \n",
       "4    -0.006730    -0.023411    -0.021404    -0.012395    -0.016389   \n",
       "\n",
       "   svd_word_17  svd_word_18  svd_word_19  \n",
       "0    -0.014483    -0.041962    -0.126977  \n",
       "1     0.006827     0.060292    -0.006049  \n",
       "2    -0.020762    -0.030915    -0.102981  \n",
       "3    -0.037752    -0.189654     0.026758  \n",
       "4     0.004871     0.054133    -0.012121  "
      ]
     },
     "execution_count": 31,
     "metadata": {},
     "output_type": "execute_result"
    }
   ],
   "source": [
    "train_svd.head()"
   ]
  },
  {
   "cell_type": "code",
   "execution_count": 32,
   "metadata": {
    "colab": {
     "base_uri": "https://localhost:8080/",
     "height": 206
    },
    "colab_type": "code",
    "id": "gG8YIrVXqz57",
    "outputId": "e26a1a31-ed06-40cd-c57c-ea9116b61329"
   },
   "outputs": [
    {
     "data": {
      "text/html": [
       "<div>\n",
       "<style scoped>\n",
       "    .dataframe tbody tr th:only-of-type {\n",
       "        vertical-align: middle;\n",
       "    }\n",
       "\n",
       "    .dataframe tbody tr th {\n",
       "        vertical-align: top;\n",
       "    }\n",
       "\n",
       "    .dataframe thead th {\n",
       "        text-align: right;\n",
       "    }\n",
       "</style>\n",
       "<table border=\"1\" class=\"dataframe\">\n",
       "  <thead>\n",
       "    <tr style=\"text-align: right;\">\n",
       "      <th></th>\n",
       "      <th>id</th>\n",
       "      <th>original_text</th>\n",
       "      <th>lang</th>\n",
       "      <th>retweet_count</th>\n",
       "      <th>original_author</th>\n",
       "      <th>sentiment_class</th>\n",
       "    </tr>\n",
       "  </thead>\n",
       "  <tbody>\n",
       "    <tr>\n",
       "      <th>0</th>\n",
       "      <td>1.245025e+18</td>\n",
       "      <td>happy mothersday to all you amazing mothers ou...</td>\n",
       "      <td>1</td>\n",
       "      <td>0.0</td>\n",
       "      <td>BeenXXPired</td>\n",
       "      <td>0.0</td>\n",
       "    </tr>\n",
       "    <tr>\n",
       "      <th>1</th>\n",
       "      <td>1.245759e+18</td>\n",
       "      <td>happy mothers day mum im sorry i cant be there...</td>\n",
       "      <td>1</td>\n",
       "      <td>1.0</td>\n",
       "      <td>FestiveFeeling</td>\n",
       "      <td>0.0</td>\n",
       "    </tr>\n",
       "    <tr>\n",
       "      <th>2</th>\n",
       "      <td>1.246087e+18</td>\n",
       "      <td>happy mothers day to all this doing a mothers ...</td>\n",
       "      <td>1</td>\n",
       "      <td>0.0</td>\n",
       "      <td>KrisAllenSak</td>\n",
       "      <td>-1.0</td>\n",
       "    </tr>\n",
       "    <tr>\n",
       "      <th>3</th>\n",
       "      <td>1.244803e+18</td>\n",
       "      <td>happy mothers day to this beautiful womanroyal...</td>\n",
       "      <td>1</td>\n",
       "      <td>0.0</td>\n",
       "      <td>Queenuchee</td>\n",
       "      <td>0.0</td>\n",
       "    </tr>\n",
       "    <tr>\n",
       "      <th>4</th>\n",
       "      <td>1.244876e+18</td>\n",
       "      <td>remembering the most amazing ladies who made m...</td>\n",
       "      <td>1</td>\n",
       "      <td>0.0</td>\n",
       "      <td>brittan17446794</td>\n",
       "      <td>-1.0</td>\n",
       "    </tr>\n",
       "  </tbody>\n",
       "</table>\n",
       "</div>"
      ],
      "text/plain": [
       "             id                                      original_text lang  \\\n",
       "0  1.245025e+18  happy mothersday to all you amazing mothers ou...    1   \n",
       "1  1.245759e+18  happy mothers day mum im sorry i cant be there...    1   \n",
       "2  1.246087e+18  happy mothers day to all this doing a mothers ...    1   \n",
       "3  1.244803e+18  happy mothers day to this beautiful womanroyal...    1   \n",
       "4  1.244876e+18  remembering the most amazing ladies who made m...    1   \n",
       "\n",
       "   retweet_count  original_author  sentiment_class  \n",
       "0            0.0      BeenXXPired              0.0  \n",
       "1            1.0   FestiveFeeling              0.0  \n",
       "2            0.0     KrisAllenSak             -1.0  \n",
       "3            0.0       Queenuchee              0.0  \n",
       "4            0.0  brittan17446794             -1.0  "
      ]
     },
     "execution_count": 32,
     "metadata": {},
     "output_type": "execute_result"
    }
   ],
   "source": [
    "train.head()"
   ]
  },
  {
   "cell_type": "code",
   "execution_count": 33,
   "metadata": {
    "colab": {},
    "colab_type": "code",
    "id": "BqBTcGB1ObPV"
   },
   "outputs": [],
   "source": [
    "train =  pd.concat([train,train_svd],axis=1)"
   ]
  },
  {
   "cell_type": "code",
   "execution_count": 34,
   "metadata": {
    "colab": {},
    "colab_type": "code",
    "id": "Pk_2y8chaSxr"
   },
   "outputs": [],
   "source": [
    "X = train.drop(columns = ['id', 'original_text', 'original_author','sentiment_class'])\n",
    "Y = train['sentiment_class']"
   ]
  },
  {
   "cell_type": "code",
   "execution_count": 35,
   "metadata": {
    "colab": {},
    "colab_type": "code",
    "id": "EyGAf6wdgaSH"
   },
   "outputs": [],
   "source": [
    "X = pd.DataFrame(X)\n",
    "Y = pd.DataFrame(Y)"
   ]
  },
  {
   "cell_type": "code",
   "execution_count": 36,
   "metadata": {
    "colab": {},
    "colab_type": "code",
    "id": "s23Tlb3NnBa1"
   },
   "outputs": [],
   "source": [
    "X['lang'] = X['lang'].astype(np.int16)\n"
   ]
  },
  {
   "cell_type": "code",
   "execution_count": 37,
   "metadata": {
    "colab": {
     "base_uri": "https://localhost:8080/",
     "height": 226
    },
    "colab_type": "code",
    "id": "QM3_3153sltL",
    "outputId": "e6a9ae91-a864-4e8e-9877-24818b81ad6f"
   },
   "outputs": [
    {
     "data": {
      "text/html": [
       "<div>\n",
       "<style scoped>\n",
       "    .dataframe tbody tr th:only-of-type {\n",
       "        vertical-align: middle;\n",
       "    }\n",
       "\n",
       "    .dataframe tbody tr th {\n",
       "        vertical-align: top;\n",
       "    }\n",
       "\n",
       "    .dataframe thead th {\n",
       "        text-align: right;\n",
       "    }\n",
       "</style>\n",
       "<table border=\"1\" class=\"dataframe\">\n",
       "  <thead>\n",
       "    <tr style=\"text-align: right;\">\n",
       "      <th></th>\n",
       "      <th>lang</th>\n",
       "      <th>retweet_count</th>\n",
       "      <th>svd_word_0</th>\n",
       "      <th>svd_word_1</th>\n",
       "      <th>svd_word_2</th>\n",
       "      <th>svd_word_3</th>\n",
       "      <th>svd_word_4</th>\n",
       "      <th>svd_word_5</th>\n",
       "      <th>svd_word_6</th>\n",
       "      <th>svd_word_7</th>\n",
       "      <th>...</th>\n",
       "      <th>svd_word_10</th>\n",
       "      <th>svd_word_11</th>\n",
       "      <th>svd_word_12</th>\n",
       "      <th>svd_word_13</th>\n",
       "      <th>svd_word_14</th>\n",
       "      <th>svd_word_15</th>\n",
       "      <th>svd_word_16</th>\n",
       "      <th>svd_word_17</th>\n",
       "      <th>svd_word_18</th>\n",
       "      <th>svd_word_19</th>\n",
       "    </tr>\n",
       "  </thead>\n",
       "  <tbody>\n",
       "    <tr>\n",
       "      <th>0</th>\n",
       "      <td>1</td>\n",
       "      <td>0.0</td>\n",
       "      <td>0.142591</td>\n",
       "      <td>-0.152380</td>\n",
       "      <td>0.056124</td>\n",
       "      <td>0.191297</td>\n",
       "      <td>-0.109899</td>\n",
       "      <td>0.112765</td>\n",
       "      <td>-0.065901</td>\n",
       "      <td>0.052554</td>\n",
       "      <td>...</td>\n",
       "      <td>0.069978</td>\n",
       "      <td>0.010409</td>\n",
       "      <td>-0.057227</td>\n",
       "      <td>-0.020363</td>\n",
       "      <td>-0.107702</td>\n",
       "      <td>-0.031636</td>\n",
       "      <td>-0.068162</td>\n",
       "      <td>-0.014483</td>\n",
       "      <td>-0.041962</td>\n",
       "      <td>-0.126977</td>\n",
       "    </tr>\n",
       "    <tr>\n",
       "      <th>1</th>\n",
       "      <td>1</td>\n",
       "      <td>1.0</td>\n",
       "      <td>0.208979</td>\n",
       "      <td>-0.097381</td>\n",
       "      <td>-0.068372</td>\n",
       "      <td>-0.119101</td>\n",
       "      <td>-0.239203</td>\n",
       "      <td>-0.183643</td>\n",
       "      <td>0.014206</td>\n",
       "      <td>0.098559</td>\n",
       "      <td>...</td>\n",
       "      <td>0.012790</td>\n",
       "      <td>0.051580</td>\n",
       "      <td>0.016684</td>\n",
       "      <td>0.028389</td>\n",
       "      <td>-0.013599</td>\n",
       "      <td>-0.031212</td>\n",
       "      <td>0.017041</td>\n",
       "      <td>0.006827</td>\n",
       "      <td>0.060292</td>\n",
       "      <td>-0.006049</td>\n",
       "    </tr>\n",
       "    <tr>\n",
       "      <th>2</th>\n",
       "      <td>1</td>\n",
       "      <td>0.0</td>\n",
       "      <td>0.157722</td>\n",
       "      <td>-0.136449</td>\n",
       "      <td>-0.025809</td>\n",
       "      <td>-0.026698</td>\n",
       "      <td>0.013887</td>\n",
       "      <td>-0.016746</td>\n",
       "      <td>-0.009696</td>\n",
       "      <td>0.012358</td>\n",
       "      <td>...</td>\n",
       "      <td>0.012956</td>\n",
       "      <td>-0.023452</td>\n",
       "      <td>-0.082886</td>\n",
       "      <td>-0.022577</td>\n",
       "      <td>-0.037181</td>\n",
       "      <td>-0.030758</td>\n",
       "      <td>-0.012114</td>\n",
       "      <td>-0.020762</td>\n",
       "      <td>-0.030915</td>\n",
       "      <td>-0.102981</td>\n",
       "    </tr>\n",
       "    <tr>\n",
       "      <th>3</th>\n",
       "      <td>1</td>\n",
       "      <td>0.0</td>\n",
       "      <td>0.239855</td>\n",
       "      <td>-0.129351</td>\n",
       "      <td>-0.150028</td>\n",
       "      <td>-0.081800</td>\n",
       "      <td>-0.027545</td>\n",
       "      <td>0.026165</td>\n",
       "      <td>0.040333</td>\n",
       "      <td>-0.398070</td>\n",
       "      <td>...</td>\n",
       "      <td>-0.183247</td>\n",
       "      <td>0.521435</td>\n",
       "      <td>-0.190847</td>\n",
       "      <td>0.009463</td>\n",
       "      <td>0.015352</td>\n",
       "      <td>-0.084678</td>\n",
       "      <td>0.020559</td>\n",
       "      <td>-0.037752</td>\n",
       "      <td>-0.189654</td>\n",
       "      <td>0.026758</td>\n",
       "    </tr>\n",
       "    <tr>\n",
       "      <th>4</th>\n",
       "      <td>1</td>\n",
       "      <td>0.0</td>\n",
       "      <td>0.171479</td>\n",
       "      <td>-0.137448</td>\n",
       "      <td>0.024917</td>\n",
       "      <td>-0.048322</td>\n",
       "      <td>-0.089883</td>\n",
       "      <td>0.035509</td>\n",
       "      <td>0.002303</td>\n",
       "      <td>0.005112</td>\n",
       "      <td>...</td>\n",
       "      <td>0.018811</td>\n",
       "      <td>-0.002273</td>\n",
       "      <td>-0.006730</td>\n",
       "      <td>-0.023411</td>\n",
       "      <td>-0.021404</td>\n",
       "      <td>-0.012395</td>\n",
       "      <td>-0.016389</td>\n",
       "      <td>0.004871</td>\n",
       "      <td>0.054133</td>\n",
       "      <td>-0.012121</td>\n",
       "    </tr>\n",
       "  </tbody>\n",
       "</table>\n",
       "<p>5 rows × 22 columns</p>\n",
       "</div>"
      ],
      "text/plain": [
       "   lang  retweet_count  svd_word_0  svd_word_1  svd_word_2  svd_word_3  \\\n",
       "0     1            0.0    0.142591   -0.152380    0.056124    0.191297   \n",
       "1     1            1.0    0.208979   -0.097381   -0.068372   -0.119101   \n",
       "2     1            0.0    0.157722   -0.136449   -0.025809   -0.026698   \n",
       "3     1            0.0    0.239855   -0.129351   -0.150028   -0.081800   \n",
       "4     1            0.0    0.171479   -0.137448    0.024917   -0.048322   \n",
       "\n",
       "   svd_word_4  svd_word_5  svd_word_6  svd_word_7  ...  svd_word_10  \\\n",
       "0   -0.109899    0.112765   -0.065901    0.052554  ...     0.069978   \n",
       "1   -0.239203   -0.183643    0.014206    0.098559  ...     0.012790   \n",
       "2    0.013887   -0.016746   -0.009696    0.012358  ...     0.012956   \n",
       "3   -0.027545    0.026165    0.040333   -0.398070  ...    -0.183247   \n",
       "4   -0.089883    0.035509    0.002303    0.005112  ...     0.018811   \n",
       "\n",
       "   svd_word_11  svd_word_12  svd_word_13  svd_word_14  svd_word_15  \\\n",
       "0     0.010409    -0.057227    -0.020363    -0.107702    -0.031636   \n",
       "1     0.051580     0.016684     0.028389    -0.013599    -0.031212   \n",
       "2    -0.023452    -0.082886    -0.022577    -0.037181    -0.030758   \n",
       "3     0.521435    -0.190847     0.009463     0.015352    -0.084678   \n",
       "4    -0.002273    -0.006730    -0.023411    -0.021404    -0.012395   \n",
       "\n",
       "   svd_word_16  svd_word_17  svd_word_18  svd_word_19  \n",
       "0    -0.068162    -0.014483    -0.041962    -0.126977  \n",
       "1     0.017041     0.006827     0.060292    -0.006049  \n",
       "2    -0.012114    -0.020762    -0.030915    -0.102981  \n",
       "3     0.020559    -0.037752    -0.189654     0.026758  \n",
       "4    -0.016389     0.004871     0.054133    -0.012121  \n",
       "\n",
       "[5 rows x 22 columns]"
      ]
     },
     "execution_count": 37,
     "metadata": {},
     "output_type": "execute_result"
    }
   ],
   "source": [
    "X.head()"
   ]
  },
  {
   "cell_type": "markdown",
   "metadata": {
    "colab_type": "text",
    "id": "TpwN2Cny2hQ0"
   },
   "source": [
    "## TestSet"
   ]
  },
  {
   "cell_type": "code",
   "execution_count": 38,
   "metadata": {
    "colab": {},
    "colab_type": "code",
    "id": "IUz2ybM1201M"
   },
   "outputs": [],
   "source": [
    "tfidf_vec = TfidfVectorizer(stop_words='english', \n",
    "                            ngram_range=(1,4), \n",
    "                            analyzer='word',\n",
    "                            max_df = .9,\n",
    "                            use_idf=1, \n",
    "                            sublinear_tf=1, \n",
    "                            min_df = 20, \n",
    "                            strip_accents='ascii')\n",
    "full_tfidf = tfidf_vec.fit_transform(train['original_text'].values.tolist() + test['original_text'].values.tolist())\n",
    "test_tfidf = tfidf_vec.transform(test['original_text'].values.tolist())"
   ]
  },
  {
   "cell_type": "code",
   "execution_count": 39,
   "metadata": {
    "colab": {
     "base_uri": "https://localhost:8080/",
     "height": 34
    },
    "colab_type": "code",
    "id": "1-u_tYGw3CeJ",
    "outputId": "bdcd503e-1eaa-40c8-f305-fc9738624bf0"
   },
   "outputs": [
    {
     "data": {
      "text/plain": [
       "(1387, 743)"
      ]
     },
     "execution_count": 39,
     "metadata": {},
     "output_type": "execute_result"
    }
   ],
   "source": [
    "test_tfidf.shape"
   ]
  },
  {
   "cell_type": "code",
   "execution_count": 40,
   "metadata": {
    "colab": {
     "base_uri": "https://localhost:8080/",
     "height": 34
    },
    "colab_type": "code",
    "id": "_w7LAV0h20wn",
    "outputId": "552d83ac-09fd-4ca0-8c3d-fd1ffb6e07b0"
   },
   "outputs": [
    {
     "data": {
      "text/plain": [
       "(1387, 20)"
      ]
     },
     "execution_count": 40,
     "metadata": {},
     "output_type": "execute_result"
    }
   ],
   "source": [
    "n_comp = 20\n",
    "svd_obj = TruncatedSVD(n_components=n_comp)\n",
    "svd_obj.fit(full_tfidf)\n",
    "test_svd = pd.DataFrame(svd_obj.transform(test_tfidf))\n",
    "    \n",
    "test_svd.columns = ['svd_word_'+str(i) for i in range(n_comp)]\n",
    "test_svd.shape"
   ]
  },
  {
   "cell_type": "code",
   "execution_count": 41,
   "metadata": {
    "colab": {},
    "colab_type": "code",
    "id": "eD1nCNS22jwx"
   },
   "outputs": [],
   "source": [
    "test =  pd.concat([test,test_svd],axis=1)"
   ]
  },
  {
   "cell_type": "code",
   "execution_count": 42,
   "metadata": {
    "colab": {},
    "colab_type": "code",
    "id": "fTAJNdMegLn5"
   },
   "outputs": [],
   "source": [
    "test = test.drop(columns = ['id', 'original_text', 'original_author','sentiment_class'])"
   ]
  },
  {
   "cell_type": "code",
   "execution_count": 43,
   "metadata": {
    "colab": {},
    "colab_type": "code",
    "id": "7ulxhyXF2p7Z"
   },
   "outputs": [],
   "source": [
    "test['lang'] = test['lang'].astype(np.int16)"
   ]
  },
  {
   "cell_type": "code",
   "execution_count": 44,
   "metadata": {
    "colab": {
     "base_uri": "https://localhost:8080/",
     "height": 226
    },
    "colab_type": "code",
    "id": "ahgnTvnPjkqz",
    "outputId": "c231a6ad-8f43-4c21-8183-ee0fcb90fcd6"
   },
   "outputs": [
    {
     "data": {
      "text/html": [
       "<div>\n",
       "<style scoped>\n",
       "    .dataframe tbody tr th:only-of-type {\n",
       "        vertical-align: middle;\n",
       "    }\n",
       "\n",
       "    .dataframe tbody tr th {\n",
       "        vertical-align: top;\n",
       "    }\n",
       "\n",
       "    .dataframe thead th {\n",
       "        text-align: right;\n",
       "    }\n",
       "</style>\n",
       "<table border=\"1\" class=\"dataframe\">\n",
       "  <thead>\n",
       "    <tr style=\"text-align: right;\">\n",
       "      <th></th>\n",
       "      <th>lang</th>\n",
       "      <th>retweet_count</th>\n",
       "      <th>svd_word_0</th>\n",
       "      <th>svd_word_1</th>\n",
       "      <th>svd_word_2</th>\n",
       "      <th>svd_word_3</th>\n",
       "      <th>svd_word_4</th>\n",
       "      <th>svd_word_5</th>\n",
       "      <th>svd_word_6</th>\n",
       "      <th>svd_word_7</th>\n",
       "      <th>...</th>\n",
       "      <th>svd_word_10</th>\n",
       "      <th>svd_word_11</th>\n",
       "      <th>svd_word_12</th>\n",
       "      <th>svd_word_13</th>\n",
       "      <th>svd_word_14</th>\n",
       "      <th>svd_word_15</th>\n",
       "      <th>svd_word_16</th>\n",
       "      <th>svd_word_17</th>\n",
       "      <th>svd_word_18</th>\n",
       "      <th>svd_word_19</th>\n",
       "    </tr>\n",
       "  </thead>\n",
       "  <tbody>\n",
       "    <tr>\n",
       "      <th>0</th>\n",
       "      <td>1</td>\n",
       "      <td>0.0</td>\n",
       "      <td>0.150573</td>\n",
       "      <td>-0.096279</td>\n",
       "      <td>-0.065862</td>\n",
       "      <td>-0.071500</td>\n",
       "      <td>0.011518</td>\n",
       "      <td>-0.016554</td>\n",
       "      <td>0.021508</td>\n",
       "      <td>-0.017760</td>\n",
       "      <td>...</td>\n",
       "      <td>0.029698</td>\n",
       "      <td>-0.024034</td>\n",
       "      <td>-0.077392</td>\n",
       "      <td>0.004919</td>\n",
       "      <td>-0.015506</td>\n",
       "      <td>0.005484</td>\n",
       "      <td>-0.019027</td>\n",
       "      <td>-0.009367</td>\n",
       "      <td>0.031017</td>\n",
       "      <td>-0.026071</td>\n",
       "    </tr>\n",
       "    <tr>\n",
       "      <th>1</th>\n",
       "      <td>1</td>\n",
       "      <td>0.0</td>\n",
       "      <td>0.231312</td>\n",
       "      <td>-0.155000</td>\n",
       "      <td>0.399583</td>\n",
       "      <td>-0.186668</td>\n",
       "      <td>0.133369</td>\n",
       "      <td>0.017156</td>\n",
       "      <td>-0.127536</td>\n",
       "      <td>-0.048066</td>\n",
       "      <td>...</td>\n",
       "      <td>0.242719</td>\n",
       "      <td>0.124322</td>\n",
       "      <td>0.108632</td>\n",
       "      <td>-0.014335</td>\n",
       "      <td>0.111705</td>\n",
       "      <td>-0.058838</td>\n",
       "      <td>0.126004</td>\n",
       "      <td>-0.030071</td>\n",
       "      <td>0.064970</td>\n",
       "      <td>0.000496</td>\n",
       "    </tr>\n",
       "    <tr>\n",
       "      <th>2</th>\n",
       "      <td>1</td>\n",
       "      <td>0.0</td>\n",
       "      <td>0.224079</td>\n",
       "      <td>-0.166632</td>\n",
       "      <td>0.245525</td>\n",
       "      <td>-0.151250</td>\n",
       "      <td>0.055448</td>\n",
       "      <td>0.006220</td>\n",
       "      <td>-0.106101</td>\n",
       "      <td>-0.064758</td>\n",
       "      <td>...</td>\n",
       "      <td>0.010303</td>\n",
       "      <td>-0.047202</td>\n",
       "      <td>0.036940</td>\n",
       "      <td>0.073070</td>\n",
       "      <td>-0.028762</td>\n",
       "      <td>0.032588</td>\n",
       "      <td>0.036392</td>\n",
       "      <td>-0.103102</td>\n",
       "      <td>-0.068539</td>\n",
       "      <td>0.037923</td>\n",
       "    </tr>\n",
       "    <tr>\n",
       "      <th>3</th>\n",
       "      <td>1</td>\n",
       "      <td>1.0</td>\n",
       "      <td>0.215684</td>\n",
       "      <td>-0.195078</td>\n",
       "      <td>0.006516</td>\n",
       "      <td>0.001195</td>\n",
       "      <td>-0.214710</td>\n",
       "      <td>-0.217794</td>\n",
       "      <td>-0.019054</td>\n",
       "      <td>0.182546</td>\n",
       "      <td>...</td>\n",
       "      <td>-0.045442</td>\n",
       "      <td>0.174322</td>\n",
       "      <td>-0.012967</td>\n",
       "      <td>0.015251</td>\n",
       "      <td>0.129323</td>\n",
       "      <td>-0.051483</td>\n",
       "      <td>0.167226</td>\n",
       "      <td>-0.075372</td>\n",
       "      <td>0.061901</td>\n",
       "      <td>-0.044591</td>\n",
       "    </tr>\n",
       "    <tr>\n",
       "      <th>4</th>\n",
       "      <td>1</td>\n",
       "      <td>0.0</td>\n",
       "      <td>0.174001</td>\n",
       "      <td>-0.117727</td>\n",
       "      <td>-0.025903</td>\n",
       "      <td>0.072915</td>\n",
       "      <td>0.102213</td>\n",
       "      <td>0.000143</td>\n",
       "      <td>0.449074</td>\n",
       "      <td>0.019313</td>\n",
       "      <td>...</td>\n",
       "      <td>0.057220</td>\n",
       "      <td>-0.053531</td>\n",
       "      <td>0.059516</td>\n",
       "      <td>0.115248</td>\n",
       "      <td>-0.004839</td>\n",
       "      <td>-0.032197</td>\n",
       "      <td>0.023660</td>\n",
       "      <td>0.058082</td>\n",
       "      <td>0.065528</td>\n",
       "      <td>-0.004751</td>\n",
       "    </tr>\n",
       "  </tbody>\n",
       "</table>\n",
       "<p>5 rows × 22 columns</p>\n",
       "</div>"
      ],
      "text/plain": [
       "   lang  retweet_count  svd_word_0  svd_word_1  svd_word_2  svd_word_3  \\\n",
       "0     1            0.0    0.150573   -0.096279   -0.065862   -0.071500   \n",
       "1     1            0.0    0.231312   -0.155000    0.399583   -0.186668   \n",
       "2     1            0.0    0.224079   -0.166632    0.245525   -0.151250   \n",
       "3     1            1.0    0.215684   -0.195078    0.006516    0.001195   \n",
       "4     1            0.0    0.174001   -0.117727   -0.025903    0.072915   \n",
       "\n",
       "   svd_word_4  svd_word_5  svd_word_6  svd_word_7  ...  svd_word_10  \\\n",
       "0    0.011518   -0.016554    0.021508   -0.017760  ...     0.029698   \n",
       "1    0.133369    0.017156   -0.127536   -0.048066  ...     0.242719   \n",
       "2    0.055448    0.006220   -0.106101   -0.064758  ...     0.010303   \n",
       "3   -0.214710   -0.217794   -0.019054    0.182546  ...    -0.045442   \n",
       "4    0.102213    0.000143    0.449074    0.019313  ...     0.057220   \n",
       "\n",
       "   svd_word_11  svd_word_12  svd_word_13  svd_word_14  svd_word_15  \\\n",
       "0    -0.024034    -0.077392     0.004919    -0.015506     0.005484   \n",
       "1     0.124322     0.108632    -0.014335     0.111705    -0.058838   \n",
       "2    -0.047202     0.036940     0.073070    -0.028762     0.032588   \n",
       "3     0.174322    -0.012967     0.015251     0.129323    -0.051483   \n",
       "4    -0.053531     0.059516     0.115248    -0.004839    -0.032197   \n",
       "\n",
       "   svd_word_16  svd_word_17  svd_word_18  svd_word_19  \n",
       "0    -0.019027    -0.009367     0.031017    -0.026071  \n",
       "1     0.126004    -0.030071     0.064970     0.000496  \n",
       "2     0.036392    -0.103102    -0.068539     0.037923  \n",
       "3     0.167226    -0.075372     0.061901    -0.044591  \n",
       "4     0.023660     0.058082     0.065528    -0.004751  \n",
       "\n",
       "[5 rows x 22 columns]"
      ]
     },
     "execution_count": 44,
     "metadata": {},
     "output_type": "execute_result"
    }
   ],
   "source": [
    "test.head()"
   ]
  },
  {
   "cell_type": "markdown",
   "metadata": {
    "colab_type": "text",
    "id": "lVARndIj2w-7"
   },
   "source": [
    "# Model Building"
   ]
  },
  {
   "cell_type": "code",
   "execution_count": 45,
   "metadata": {
    "colab": {},
    "colab_type": "code",
    "id": "wA1DCbShjhqh"
   },
   "outputs": [],
   "source": [
    "lgb = LGBMClassifier(learning_rate= 0.1, \n",
    "                     max_depth= 5, \n",
    "                     n_estimators= 500, \n",
    "                     num_leaves= 32,\n",
    "                     objective='multiclass'\n",
    "                     )"
   ]
  },
  {
   "cell_type": "code",
   "execution_count": 46,
   "metadata": {
    "colab": {},
    "colab_type": "code",
    "id": "7_hw4CCVbKWh"
   },
   "outputs": [
    {
     "name": "stdout",
     "output_type": "stream",
     "text": [
      "iteration -  1\n",
      "iteration -  2\n",
      "iteration -  3\n",
      "iteration -  4\n",
      "iteration -  5\n",
      "iteration -  6\n",
      "iteration -  7\n",
      "iteration -  8\n",
      "iteration -  9\n",
      "iteration -  10\n",
      "iteration -  11\n",
      "iteration -  12\n",
      "iteration -  13\n",
      "iteration -  14\n",
      "iteration -  15\n",
      "iteration -  16\n",
      "iteration -  17\n",
      "iteration -  18\n",
      "iteration -  19\n",
      "iteration -  20\n",
      "iteration -  21\n",
      "iteration -  22\n",
      "iteration -  23\n",
      "iteration -  24\n",
      "iteration -  25\n",
      "iteration -  26\n",
      "iteration -  27\n",
      "iteration -  28\n",
      "iteration -  29\n",
      "iteration -  30\n",
      "iteration -  31\n",
      "iteration -  32\n",
      "iteration -  33\n",
      "iteration -  34\n",
      "iteration -  35\n",
      "iteration -  36\n",
      "iteration -  37\n",
      "iteration -  38\n",
      "iteration -  39\n",
      "iteration -  40\n",
      "iteration -  41\n",
      "iteration -  42\n",
      "iteration -  43\n",
      "iteration -  44\n",
      "iteration -  45\n",
      "iteration -  46\n",
      "iteration -  47\n",
      "iteration -  48\n",
      "iteration -  49\n",
      "iteration -  50\n",
      "iteration -  51\n",
      "iteration -  52\n",
      "iteration -  53\n",
      "iteration -  54\n",
      "iteration -  55\n",
      "iteration -  56\n",
      "iteration -  57\n",
      "iteration -  58\n",
      "iteration -  59\n",
      "iteration -  60\n",
      "iteration -  61\n",
      "iteration -  62\n",
      "iteration -  63\n",
      "iteration -  64\n",
      "iteration -  65\n",
      "iteration -  66\n",
      "iteration -  67\n",
      "iteration -  68\n",
      "iteration -  69\n",
      "iteration -  70\n",
      "iteration -  71\n",
      "iteration -  72\n",
      "iteration -  73\n",
      "iteration -  74\n",
      "iteration -  75\n",
      "iteration -  76\n",
      "iteration -  77\n",
      "iteration -  78\n",
      "iteration -  79\n",
      "iteration -  80\n",
      "iteration -  81\n",
      "iteration -  82\n",
      "iteration -  83\n",
      "iteration -  84\n",
      "iteration -  85\n",
      "iteration -  86\n",
      "iteration -  87\n",
      "iteration -  88\n",
      "iteration -  89\n",
      "iteration -  90\n",
      "iteration -  91\n",
      "iteration -  92\n",
      "iteration -  93\n",
      "iteration -  94\n",
      "iteration -  95\n",
      "iteration -  96\n",
      "iteration -  97\n",
      "iteration -  98\n",
      "iteration -  99\n",
      "iteration -  100\n"
     ]
    }
   ],
   "source": [
    "# Used 100 Kfold\n",
    "kf = StratifiedKFold(n_splits = 100)\n",
    "i=1\n",
    "prediction= []\n",
    "for model in [lgb]:\n",
    "  for dev_index, val_index in kf.split(X,Y):\n",
    "      print(\"iteration - \", i)\n",
    "      dev_X, val_X = X.iloc[dev_index], X.iloc[val_index]\n",
    "      dev_y, val_y = Y.iloc[dev_index], Y.iloc[val_index]\n",
    "      model.fit(dev_X,dev_y)\n",
    "      prediction.append(model.predict(test))\n",
    "      i+=1"
   ]
  },
  {
   "cell_type": "code",
   "execution_count": 47,
   "metadata": {
    "colab": {},
    "colab_type": "code",
    "id": "49e5NiMMpVwO"
   },
   "outputs": [],
   "source": [
    "# Use Mode of all predictions\n",
    "pred = pd.DataFrame(prediction).mode(axis=0)"
   ]
  },
  {
   "cell_type": "code",
   "execution_count": 48,
   "metadata": {
    "colab": {},
    "colab_type": "code",
    "id": "D4WEpOuOp1eV"
   },
   "outputs": [],
   "source": [
    "pred = pred.loc[0]"
   ]
  },
  {
   "cell_type": "code",
   "execution_count": 49,
   "metadata": {
    "colab": {
     "base_uri": "https://localhost:8080/",
     "height": 334
    },
    "colab_type": "code",
    "id": "WuzXYFgecSFO",
    "outputId": "c16325ad-08f7-4da2-9ef1-adfeea9add19"
   },
   "outputs": [
    {
     "data": {
      "text/plain": [
       "(array([ 220.,    0.,    0.,    0.,    0., 1018.,    0.,    0.,    0.,\n",
       "         149.]),\n",
       " array([-1. , -0.8, -0.6, -0.4, -0.2,  0. ,  0.2,  0.4,  0.6,  0.8,  1. ]),\n",
       " <BarContainer object of 10 artists>)"
      ]
     },
     "execution_count": 49,
     "metadata": {},
     "output_type": "execute_result"
    },
    {
     "data": {
      "image/png": "[encoded data removed]",
      "text/plain": [
       "<Figure size 432x288 with 1 Axes>"
      ]
     },
     "metadata": {
      "needs_background": "light"
     },
     "output_type": "display_data"
    }
   ],
   "source": [
    "plt.hist(pred)"
   ]
  },
  {
   "cell_type": "code",
   "execution_count": 50,
   "metadata": {
    "colab": {},
    "colab_type": "code",
    "id": "7i_wn8-ccSA8"
   },
   "outputs": [],
   "source": [
    "sb =  pd.DataFrame({'id':test_id,\n",
    "                   'sentiment_class':pred})"
   ]
  },
  {
   "cell_type": "code",
   "execution_count": 51,
   "metadata": {
    "colab": {
     "base_uri": "https://localhost:8080/",
     "height": 206
    },
    "colab_type": "code",
    "id": "UC9UV4ddiP83",
    "outputId": "96c31ad7-c946-4cad-9f0e-6218fc439713"
   },
   "outputs": [
    {
     "data": {
      "text/html": [
       "<div>\n",
       "<style scoped>\n",
       "    .dataframe tbody tr th:only-of-type {\n",
       "        vertical-align: middle;\n",
       "    }\n",
       "\n",
       "    .dataframe tbody tr th {\n",
       "        vertical-align: top;\n",
       "    }\n",
       "\n",
       "    .dataframe thead th {\n",
       "        text-align: right;\n",
       "    }\n",
       "</style>\n",
       "<table border=\"1\" class=\"dataframe\">\n",
       "  <thead>\n",
       "    <tr style=\"text-align: right;\">\n",
       "      <th></th>\n",
       "      <th>id</th>\n",
       "      <th>sentiment_class</th>\n",
       "    </tr>\n",
       "  </thead>\n",
       "  <tbody>\n",
       "    <tr>\n",
       "      <th>0</th>\n",
       "      <td>1.246628e+18</td>\n",
       "      <td>0.0</td>\n",
       "    </tr>\n",
       "    <tr>\n",
       "      <th>1</th>\n",
       "      <td>1.245898e+18</td>\n",
       "      <td>0.0</td>\n",
       "    </tr>\n",
       "    <tr>\n",
       "      <th>2</th>\n",
       "      <td>1.244717e+18</td>\n",
       "      <td>1.0</td>\n",
       "    </tr>\n",
       "    <tr>\n",
       "      <th>3</th>\n",
       "      <td>1.245730e+18</td>\n",
       "      <td>-1.0</td>\n",
       "    </tr>\n",
       "    <tr>\n",
       "      <th>4</th>\n",
       "      <td>1.244636e+18</td>\n",
       "      <td>0.0</td>\n",
       "    </tr>\n",
       "  </tbody>\n",
       "</table>\n",
       "</div>"
      ],
      "text/plain": [
       "             id  sentiment_class\n",
       "0  1.246628e+18              0.0\n",
       "1  1.245898e+18              0.0\n",
       "2  1.244717e+18              1.0\n",
       "3  1.245730e+18             -1.0\n",
       "4  1.244636e+18              0.0"
      ]
     },
     "execution_count": 51,
     "metadata": {},
     "output_type": "execute_result"
    }
   ],
   "source": [
    "sb.head()"
   ]
  },
  {
   "cell_type": "code",
   "execution_count": 54,
   "metadata": {
    "colab": {},
    "colab_type": "code",
    "id": "lWqfIRifiWbY"
   },
   "outputs": [],
   "source": [
    "sb.to_csv('C:/Users/HP/Desktop/Submit_sol.csv',index=False)"
   ]
  },
  {
   "cell_type": "markdown",
   "metadata": {},
   "source": [
    "# THANK YOU"
   ]
  }
 ],
 "metadata": {
  "accelerator": "GPU",
  "colab": {
   "collapsed_sections": [],
   "name": "Hackearth MOM.ipynb",
   "provenance": [],
   "toc_visible": true
  },
  "kernelspec": {
   "display_name": "Python 3 (ipykernel)",
   "language": "python",
   "name": "python3"
  },
  "language_info": {
   "codemirror_mode": {
    "name": "ipython",
    "version": 3
   },
   "file_extension": ".py",
   "mimetype": "text/x-python",
   "name": "python",
   "nbconvert_exporter": "python",
   "pygments_lexer": "ipython3",
   "version": "3.9.12"
  },
  "widgets": {
   "application/vnd.jupyter.widget-state+json": {
    "00fc4f7c43eb408bace895767dd93185": {
     "model_module": "@jupyter-widgets/controls",
     "model_name": "HBoxModel",
     "state": {
      "_dom_classes": [],
      "_model_module": "@jupyter-widgets/controls",
      "_model_module_version": "1.5.0",
      "_model_name": "HBoxModel",
      "_view_count": null,
      "_view_module": "@jupyter-widgets/controls",
      "_view_module_version": "1.5.0",
      "_view_name": "HBoxView",
      "box_style": "",
      "children": [
       "IPY_MODEL_4e7f59a63b324425aa7f53510b054e47",
       "IPY_MODEL_5db0408bf7c2483c9eff3edf6220bc87"
      ],
      "layout": "IPY_MODEL_5c0bc16d9e6b483faf5d611130409e3c"
     }
    },
    "070f75f246dd49d38547780d421e7ef8": {
     "model_module": "@jupyter-widgets/controls",
     "model_name": "FloatProgressModel",
     "state": {
      "_dom_classes": [],
      "_model_module": "@jupyter-widgets/controls",
      "_model_module_version": "1.5.0",
      "_model_name": "FloatProgressModel",
      "_view_count": null,
      "_view_module": "@jupyter-widgets/controls",
      "_view_module_version": "1.5.0",
      "_view_name": "ProgressView",
      "bar_style": "success",
      "description": "100%",
      "description_tooltip": null,
      "layout": "IPY_MODEL_464fadcab29d4cd08b08f985c796297e",
      "max": 4622,
      "min": 0,
      "orientation": "horizontal",
      "style": "IPY_MODEL_67ab5aee81ad41e59991997ae4ac31a9",
      "value": 4622
     }
    },
    "0fd29fd89384466b9ed0a88ad5e4714d": {
     "model_module": "@jupyter-widgets/controls",
     "model_name": "DescriptionStyleModel",
     "state": {
      "_model_module": "@jupyter-widgets/controls",
      "_model_module_version": "1.5.0",
      "_model_name": "DescriptionStyleModel",
      "_view_count": null,
      "_view_module": "@jupyter-widgets/base",
      "_view_module_version": "1.2.0",
      "_view_name": "StyleView",
      "description_width": ""
     }
    },
    "10a5d762e053449e8f253f643905a272": {
     "model_module": "@jupyter-widgets/controls",
     "model_name": "DescriptionStyleModel",
     "state": {
      "_model_module": "@jupyter-widgets/controls",
      "_model_module_version": "1.5.0",
      "_model_name": "DescriptionStyleModel",
      "_view_count": null,
      "_view_module": "@jupyter-widgets/base",
      "_view_module_version": "1.2.0",
      "_view_name": "StyleView",
      "description_width": ""
     }
    },
    "13eab3992c20483187fa004645082d6f": {
     "model_module": "@jupyter-widgets/controls",
     "model_name": "HTMLModel",
     "state": {
      "_dom_classes": [],
      "_model_module": "@jupyter-widgets/controls",
      "_model_module_version": "1.5.0",
      "_model_name": "HTMLModel",
      "_view_count": null,
      "_view_module": "@jupyter-widgets/controls",
      "_view_module_version": "1.5.0",
      "_view_name": "HTMLView",
      "description": "",
      "description_tooltip": null,
      "layout": "IPY_MODEL_d60bd90323dc4300b52e5827c69186b3",
      "placeholder": "​",
      "style": "IPY_MODEL_10a5d762e053449e8f253f643905a272",
      "value": " 4622/4622 [00:00&lt;00:00, 15922.83it/s]"
     }
    },
    "1c8d4e6d66414dad8f51c03ede0ad8af": {
     "model_module": "@jupyter-widgets/base",
     "model_name": "LayoutModel",
     "state": {
      "_model_module": "@jupyter-widgets/base",
      "_model_module_version": "1.2.0",
      "_model_name": "LayoutModel",
      "_view_count": null,
      "_view_module": "@jupyter-widgets/base",
      "_view_module_version": "1.2.0",
      "_view_name": "LayoutView",
      "align_content": null,
      "align_items": null,
      "align_self": null,
      "border": null,
      "bottom": null,
      "display": null,
      "flex": null,
      "flex_flow": null,
      "grid_area": null,
      "grid_auto_columns": null,
      "grid_auto_flow": null,
      "grid_auto_rows": null,
      "grid_column": null,
      "grid_gap": null,
      "grid_row": null,
      "grid_template_areas": null,
      "grid_template_columns": null,
      "grid_template_rows": null,
      "height": null,
      "justify_content": null,
      "justify_items": null,
      "left": null,
      "margin": null,
      "max_height": null,
      "max_width": null,
      "min_height": null,
      "min_width": null,
      "object_fit": null,
      "object_position": null,
      "order": null,
      "overflow": null,
      "overflow_x": null,
      "overflow_y": null,
      "padding": null,
      "right": null,
      "top": null,
      "visibility": null,
      "width": null
     }
    },
    "2ad751b560684389ab0332d1c97167ff": {
     "model_module": "@jupyter-widgets/controls",
     "model_name": "HBoxModel",
     "state": {
      "_dom_classes": [],
      "_model_module": "@jupyter-widgets/controls",
      "_model_module_version": "1.5.0",
      "_model_name": "HBoxModel",
      "_view_count": null,
      "_view_module": "@jupyter-widgets/controls",
      "_view_module_version": "1.5.0",
      "_view_name": "HBoxView",
      "box_style": "",
      "children": [
       "IPY_MODEL_d0ef48c3ff70420ab5c4eac35cafcf32",
       "IPY_MODEL_13eab3992c20483187fa004645082d6f"
      ],
      "layout": "IPY_MODEL_a750eb7f37aa49e9bb73475f1e12d47d"
     }
    },
    "31d33cdacaec4823b343d01aed93039b": {
     "model_module": "@jupyter-widgets/base",
     "model_name": "LayoutModel",
     "state": {
      "_model_module": "@jupyter-widgets/base",
      "_model_module_version": "1.2.0",
      "_model_name": "LayoutModel",
      "_view_count": null,
      "_view_module": "@jupyter-widgets/base",
      "_view_module_version": "1.2.0",
      "_view_name": "LayoutView",
      "align_content": null,
      "align_items": null,
      "align_self": null,
      "border": null,
      "bottom": null,
      "display": null,
      "flex": null,
      "flex_flow": null,
      "grid_area": null,
      "grid_auto_columns": null,
      "grid_auto_flow": null,
      "grid_auto_rows": null,
      "grid_column": null,
      "grid_gap": null,
      "grid_row": null,
      "grid_template_areas": null,
      "grid_template_columns": null,
      "grid_template_rows": null,
      "height": null,
      "justify_content": null,
      "justify_items": null,
      "left": null,
      "margin": null,
      "max_height": null,
      "max_width": null,
      "min_height": null,
      "min_width": null,
      "object_fit": null,
      "object_position": null,
      "order": null,
      "overflow": null,
      "overflow_x": null,
      "overflow_y": null,
      "padding": null,
      "right": null,
      "top": null,
      "visibility": null,
      "width": null
     }
    },
    "31d988c4a7354834b430fdc350288649": {
     "model_module": "@jupyter-widgets/base",
     "model_name": "LayoutModel",
     "state": {
      "_model_module": "@jupyter-widgets/base",
      "_model_module_version": "1.2.0",
      "_model_name": "LayoutModel",
      "_view_count": null,
      "_view_module": "@jupyter-widgets/base",
      "_view_module_version": "1.2.0",
      "_view_name": "LayoutView",
      "align_content": null,
      "align_items": null,
      "align_self": null,
      "border": null,
      "bottom": null,
      "display": null,
      "flex": null,
      "flex_flow": null,
      "grid_area": null,
      "grid_auto_columns": null,
      "grid_auto_flow": null,
      "grid_auto_rows": null,
      "grid_column": null,
      "grid_gap": null,
      "grid_row": null,
      "grid_template_areas": null,
      "grid_template_columns": null,
      "grid_template_rows": null,
      "height": null,
      "justify_content": null,
      "justify_items": null,
      "left": null,
      "margin": null,
      "max_height": null,
      "max_width": null,
      "min_height": null,
      "min_width": null,
      "object_fit": null,
      "object_position": null,
      "order": null,
      "overflow": null,
      "overflow_x": null,
      "overflow_y": null,
      "padding": null,
      "right": null,
      "top": null,
      "visibility": null,
      "width": null
     }
    },
    "340b461cab6045f489f4993b94b7ede8": {
     "model_module": "@jupyter-widgets/base",
     "model_name": "LayoutModel",
     "state": {
      "_model_module": "@jupyter-widgets/base",
      "_model_module_version": "1.2.0",
      "_model_name": "LayoutModel",
      "_view_count": null,
      "_view_module": "@jupyter-widgets/base",
      "_view_module_version": "1.2.0",
      "_view_name": "LayoutView",
      "align_content": null,
      "align_items": null,
      "align_self": null,
      "border": null,
      "bottom": null,
      "display": null,
      "flex": null,
      "flex_flow": null,
      "grid_area": null,
      "grid_auto_columns": null,
      "grid_auto_flow": null,
      "grid_auto_rows": null,
      "grid_column": null,
      "grid_gap": null,
      "grid_row": null,
      "grid_template_areas": null,
      "grid_template_columns": null,
      "grid_template_rows": null,
      "height": null,
      "justify_content": null,
      "justify_items": null,
      "left": null,
      "margin": null,
      "max_height": null,
      "max_width": null,
      "min_height": null,
      "min_width": null,
      "object_fit": null,
      "object_position": null,
      "order": null,
      "overflow": null,
      "overflow_x": null,
      "overflow_y": null,
      "padding": null,
      "right": null,
      "top": null,
      "visibility": null,
      "width": null
     }
    },
    "38764c6bf28d4d4fb25340e40fe20f8c": {
     "model_module": "@jupyter-widgets/controls",
     "model_name": "HTMLModel",
     "state": {
      "_dom_classes": [],
      "_model_module": "@jupyter-widgets/controls",
      "_model_module_version": "1.5.0",
      "_model_name": "HTMLModel",
      "_view_count": null,
      "_view_module": "@jupyter-widgets/controls",
      "_view_module_version": "1.5.0",
      "_view_name": "HTMLView",
      "description": "",
      "description_tooltip": null,
      "layout": "IPY_MODEL_31d988c4a7354834b430fdc350288649",
      "placeholder": "​",
      "style": "IPY_MODEL_0fd29fd89384466b9ed0a88ad5e4714d",
      "value": " 4622/4622 [00:34&lt;00:00, 132.37it/s]"
     }
    },
    "3c66279bbc334186ba3059ef92b39701": {
     "model_module": "@jupyter-widgets/controls",
     "model_name": "ProgressStyleModel",
     "state": {
      "_model_module": "@jupyter-widgets/controls",
      "_model_module_version": "1.5.0",
      "_model_name": "ProgressStyleModel",
      "_view_count": null,
      "_view_module": "@jupyter-widgets/base",
      "_view_module_version": "1.2.0",
      "_view_name": "StyleView",
      "bar_color": null,
      "description_width": "initial"
     }
    },
    "40fb47e219ea4a96a336e78959bb2dff": {
     "model_module": "@jupyter-widgets/controls",
     "model_name": "HBoxModel",
     "state": {
      "_dom_classes": [],
      "_model_module": "@jupyter-widgets/controls",
      "_model_module_version": "1.5.0",
      "_model_name": "HBoxModel",
      "_view_count": null,
      "_view_module": "@jupyter-widgets/controls",
      "_view_module_version": "1.5.0",
      "_view_name": "HBoxView",
      "box_style": "",
      "children": [
       "IPY_MODEL_eec120220dd14f8a8ec7ab12c28b9196",
       "IPY_MODEL_a84115cb7e7f4a208b3bc5c05cf3182a"
      ],
      "layout": "IPY_MODEL_a8f357035671411f9f43a131c8f6fe14"
     }
    },
    "453efb16560a4c8096e63b3425696bac": {
     "model_module": "@jupyter-widgets/base",
     "model_name": "LayoutModel",
     "state": {
      "_model_module": "@jupyter-widgets/base",
      "_model_module_version": "1.2.0",
      "_model_name": "LayoutModel",
      "_view_count": null,
      "_view_module": "@jupyter-widgets/base",
      "_view_module_version": "1.2.0",
      "_view_name": "LayoutView",
      "align_content": null,
      "align_items": null,
      "align_self": null,
      "border": null,
      "bottom": null,
      "display": null,
      "flex": null,
      "flex_flow": null,
      "grid_area": null,
      "grid_auto_columns": null,
      "grid_auto_flow": null,
      "grid_auto_rows": null,
      "grid_column": null,
      "grid_gap": null,
      "grid_row": null,
      "grid_template_areas": null,
      "grid_template_columns": null,
      "grid_template_rows": null,
      "height": null,
      "justify_content": null,
      "justify_items": null,
      "left": null,
      "margin": null,
      "max_height": null,
      "max_width": null,
      "min_height": null,
      "min_width": null,
      "object_fit": null,
      "object_position": null,
      "order": null,
      "overflow": null,
      "overflow_x": null,
      "overflow_y": null,
      "padding": null,
      "right": null,
      "top": null,
      "visibility": null,
      "width": null
     }
    },
    "464fadcab29d4cd08b08f985c796297e": {
     "model_module": "@jupyter-widgets/base",
     "model_name": "LayoutModel",
     "state": {
      "_model_module": "@jupyter-widgets/base",
      "_model_module_version": "1.2.0",
      "_model_name": "LayoutModel",
      "_view_count": null,
      "_view_module": "@jupyter-widgets/base",
      "_view_module_version": "1.2.0",
      "_view_name": "LayoutView",
      "align_content": null,
      "align_items": null,
      "align_self": null,
      "border": null,
      "bottom": null,
      "display": null,
      "flex": null,
      "flex_flow": null,
      "grid_area": null,
      "grid_auto_columns": null,
      "grid_auto_flow": null,
      "grid_auto_rows": null,
      "grid_column": null,
      "grid_gap": null,
      "grid_row": null,
      "grid_template_areas": null,
      "grid_template_columns": null,
      "grid_template_rows": null,
      "height": null,
      "justify_content": null,
      "justify_items": null,
      "left": null,
      "margin": null,
      "max_height": null,
      "max_width": null,
      "min_height": null,
      "min_width": null,
      "object_fit": null,
      "object_position": null,
      "order": null,
      "overflow": null,
      "overflow_x": null,
      "overflow_y": null,
      "padding": null,
      "right": null,
      "top": null,
      "visibility": null,
      "width": null
     }
    },
    "4b3b61d7357648639f3f63af7933da43": {
     "model_module": "@jupyter-widgets/base",
     "model_name": "LayoutModel",
     "state": {
      "_model_module": "@jupyter-widgets/base",
      "_model_module_version": "1.2.0",
      "_model_name": "LayoutModel",
      "_view_count": null,
      "_view_module": "@jupyter-widgets/base",
      "_view_module_version": "1.2.0",
      "_view_name": "LayoutView",
      "align_content": null,
      "align_items": null,
      "align_self": null,
      "border": null,
      "bottom": null,
      "display": null,
      "flex": null,
      "flex_flow": null,
      "grid_area": null,
      "grid_auto_columns": null,
      "grid_auto_flow": null,
      "grid_auto_rows": null,
      "grid_column": null,
      "grid_gap": null,
      "grid_row": null,
      "grid_template_areas": null,
      "grid_template_columns": null,
      "grid_template_rows": null,
      "height": null,
      "justify_content": null,
      "justify_items": null,
      "left": null,
      "margin": null,
      "max_height": null,
      "max_width": null,
      "min_height": null,
      "min_width": null,
      "object_fit": null,
      "object_position": null,
      "order": null,
      "overflow": null,
      "overflow_x": null,
      "overflow_y": null,
      "padding": null,
      "right": null,
      "top": null,
      "visibility": null,
      "width": null
     }
    },
    "4e7f59a63b324425aa7f53510b054e47": {
     "model_module": "@jupyter-widgets/controls",
     "model_name": "FloatProgressModel",
     "state": {
      "_dom_classes": [],
      "_model_module": "@jupyter-widgets/controls",
      "_model_module_version": "1.5.0",
      "_model_name": "FloatProgressModel",
      "_view_count": null,
      "_view_module": "@jupyter-widgets/controls",
      "_view_module_version": "1.5.0",
      "_view_name": "ProgressView",
      "bar_style": "success",
      "description": "100%",
      "description_tooltip": null,
      "layout": "IPY_MODEL_9759bb6b29c64305bc4cf4d6ee43f800",
      "max": 4622,
      "min": 0,
      "orientation": "horizontal",
      "style": "IPY_MODEL_3c66279bbc334186ba3059ef92b39701",
      "value": 4622
     }
    },
    "5032076e2939487bad098b5fdbfc51a6": {
     "model_module": "@jupyter-widgets/controls",
     "model_name": "DescriptionStyleModel",
     "state": {
      "_model_module": "@jupyter-widgets/controls",
      "_model_module_version": "1.5.0",
      "_model_name": "DescriptionStyleModel",
      "_view_count": null,
      "_view_module": "@jupyter-widgets/base",
      "_view_module_version": "1.2.0",
      "_view_name": "StyleView",
      "description_width": ""
     }
    },
    "5c0bc16d9e6b483faf5d611130409e3c": {
     "model_module": "@jupyter-widgets/base",
     "model_name": "LayoutModel",
     "state": {
      "_model_module": "@jupyter-widgets/base",
      "_model_module_version": "1.2.0",
      "_model_name": "LayoutModel",
      "_view_count": null,
      "_view_module": "@jupyter-widgets/base",
      "_view_module_version": "1.2.0",
      "_view_name": "LayoutView",
      "align_content": null,
      "align_items": null,
      "align_self": null,
      "border": null,
      "bottom": null,
      "display": null,
      "flex": null,
      "flex_flow": null,
      "grid_area": null,
      "grid_auto_columns": null,
      "grid_auto_flow": null,
      "grid_auto_rows": null,
      "grid_column": null,
      "grid_gap": null,
      "grid_row": null,
      "grid_template_areas": null,
      "grid_template_columns": null,
      "grid_template_rows": null,
      "height": null,
      "justify_content": null,
      "justify_items": null,
      "left": null,
      "margin": null,
      "max_height": null,
      "max_width": null,
      "min_height": null,
      "min_width": null,
      "object_fit": null,
      "object_position": null,
      "order": null,
      "overflow": null,
      "overflow_x": null,
      "overflow_y": null,
      "padding": null,
      "right": null,
      "top": null,
      "visibility": null,
      "width": null
     }
    },
    "5db0408bf7c2483c9eff3edf6220bc87": {
     "model_module": "@jupyter-widgets/controls",
     "model_name": "HTMLModel",
     "state": {
      "_dom_classes": [],
      "_model_module": "@jupyter-widgets/controls",
      "_model_module_version": "1.5.0",
      "_model_name": "HTMLModel",
      "_view_count": null,
      "_view_module": "@jupyter-widgets/controls",
      "_view_module_version": "1.5.0",
      "_view_name": "HTMLView",
      "description": "",
      "description_tooltip": null,
      "layout": "IPY_MODEL_340b461cab6045f489f4993b94b7ede8",
      "placeholder": "​",
      "style": "IPY_MODEL_db0603691ec2492e9530b761b17a56ff",
      "value": " 4622/4622 [00:00&lt;00:00, 22749.98it/s]"
     }
    },
    "67ab5aee81ad41e59991997ae4ac31a9": {
     "model_module": "@jupyter-widgets/controls",
     "model_name": "ProgressStyleModel",
     "state": {
      "_model_module": "@jupyter-widgets/controls",
      "_model_module_version": "1.5.0",
      "_model_name": "ProgressStyleModel",
      "_view_count": null,
      "_view_module": "@jupyter-widgets/base",
      "_view_module_version": "1.2.0",
      "_view_name": "StyleView",
      "bar_color": null,
      "description_width": "initial"
     }
    },
    "6af5d4ae3f2846a8b459960c124f2688": {
     "model_module": "@jupyter-widgets/controls",
     "model_name": "DescriptionStyleModel",
     "state": {
      "_model_module": "@jupyter-widgets/controls",
      "_model_module_version": "1.5.0",
      "_model_name": "DescriptionStyleModel",
      "_view_count": null,
      "_view_module": "@jupyter-widgets/base",
      "_view_module_version": "1.2.0",
      "_view_name": "StyleView",
      "description_width": ""
     }
    },
    "755f6f021407413b9937ffcab65e151e": {
     "model_module": "@jupyter-widgets/base",
     "model_name": "LayoutModel",
     "state": {
      "_model_module": "@jupyter-widgets/base",
      "_model_module_version": "1.2.0",
      "_model_name": "LayoutModel",
      "_view_count": null,
      "_view_module": "@jupyter-widgets/base",
      "_view_module_version": "1.2.0",
      "_view_name": "LayoutView",
      "align_content": null,
      "align_items": null,
      "align_self": null,
      "border": null,
      "bottom": null,
      "display": null,
      "flex": null,
      "flex_flow": null,
      "grid_area": null,
      "grid_auto_columns": null,
      "grid_auto_flow": null,
      "grid_auto_rows": null,
      "grid_column": null,
      "grid_gap": null,
      "grid_row": null,
      "grid_template_areas": null,
      "grid_template_columns": null,
      "grid_template_rows": null,
      "height": null,
      "justify_content": null,
      "justify_items": null,
      "left": null,
      "margin": null,
      "max_height": null,
      "max_width": null,
      "min_height": null,
      "min_width": null,
      "object_fit": null,
      "object_position": null,
      "order": null,
      "overflow": null,
      "overflow_x": null,
      "overflow_y": null,
      "padding": null,
      "right": null,
      "top": null,
      "visibility": null,
      "width": null
     }
    },
    "824c3d33e06247abbc53e3f08ea280c8": {
     "model_module": "@jupyter-widgets/base",
     "model_name": "LayoutModel",
     "state": {
      "_model_module": "@jupyter-widgets/base",
      "_model_module_version": "1.2.0",
      "_model_name": "LayoutModel",
      "_view_count": null,
      "_view_module": "@jupyter-widgets/base",
      "_view_module_version": "1.2.0",
      "_view_name": "LayoutView",
      "align_content": null,
      "align_items": null,
      "align_self": null,
      "border": null,
      "bottom": null,
      "display": null,
      "flex": null,
      "flex_flow": null,
      "grid_area": null,
      "grid_auto_columns": null,
      "grid_auto_flow": null,
      "grid_auto_rows": null,
      "grid_column": null,
      "grid_gap": null,
      "grid_row": null,
      "grid_template_areas": null,
      "grid_template_columns": null,
      "grid_template_rows": null,
      "height": null,
      "justify_content": null,
      "justify_items": null,
      "left": null,
      "margin": null,
      "max_height": null,
      "max_width": null,
      "min_height": null,
      "min_width": null,
      "object_fit": null,
      "object_position": null,
      "order": null,
      "overflow": null,
      "overflow_x": null,
      "overflow_y": null,
      "padding": null,
      "right": null,
      "top": null,
      "visibility": null,
      "width": null
     }
    },
    "91f468df3f1043c298ce39c24662aad5": {
     "model_module": "@jupyter-widgets/controls",
     "model_name": "HBoxModel",
     "state": {
      "_dom_classes": [],
      "_model_module": "@jupyter-widgets/controls",
      "_model_module_version": "1.5.0",
      "_model_name": "HBoxModel",
      "_view_count": null,
      "_view_module": "@jupyter-widgets/controls",
      "_view_module_version": "1.5.0",
      "_view_name": "HBoxView",
      "box_style": "",
      "children": [
       "IPY_MODEL_b7d9bcbca2d64b97b38be7a85a485bc6",
       "IPY_MODEL_38764c6bf28d4d4fb25340e40fe20f8c"
      ],
      "layout": "IPY_MODEL_755f6f021407413b9937ffcab65e151e"
     }
    },
    "9759bb6b29c64305bc4cf4d6ee43f800": {
     "model_module": "@jupyter-widgets/base",
     "model_name": "LayoutModel",
     "state": {
      "_model_module": "@jupyter-widgets/base",
      "_model_module_version": "1.2.0",
      "_model_name": "LayoutModel",
      "_view_count": null,
      "_view_module": "@jupyter-widgets/base",
      "_view_module_version": "1.2.0",
      "_view_name": "LayoutView",
      "align_content": null,
      "align_items": null,
      "align_self": null,
      "border": null,
      "bottom": null,
      "display": null,
      "flex": null,
      "flex_flow": null,
      "grid_area": null,
      "grid_auto_columns": null,
      "grid_auto_flow": null,
      "grid_auto_rows": null,
      "grid_column": null,
      "grid_gap": null,
      "grid_row": null,
      "grid_template_areas": null,
      "grid_template_columns": null,
      "grid_template_rows": null,
      "height": null,
      "justify_content": null,
      "justify_items": null,
      "left": null,
      "margin": null,
      "max_height": null,
      "max_width": null,
      "min_height": null,
      "min_width": null,
      "object_fit": null,
      "object_position": null,
      "order": null,
      "overflow": null,
      "overflow_x": null,
      "overflow_y": null,
      "padding": null,
      "right": null,
      "top": null,
      "visibility": null,
      "width": null
     }
    },
    "99b63f9347af4aa1847d8b0049d22d09": {
     "model_module": "@jupyter-widgets/controls",
     "model_name": "ProgressStyleModel",
     "state": {
      "_model_module": "@jupyter-widgets/controls",
      "_model_module_version": "1.5.0",
      "_model_name": "ProgressStyleModel",
      "_view_count": null,
      "_view_module": "@jupyter-widgets/base",
      "_view_module_version": "1.2.0",
      "_view_name": "StyleView",
      "bar_color": null,
      "description_width": "initial"
     }
    },
    "a750eb7f37aa49e9bb73475f1e12d47d": {
     "model_module": "@jupyter-widgets/base",
     "model_name": "LayoutModel",
     "state": {
      "_model_module": "@jupyter-widgets/base",
      "_model_module_version": "1.2.0",
      "_model_name": "LayoutModel",
      "_view_count": null,
      "_view_module": "@jupyter-widgets/base",
      "_view_module_version": "1.2.0",
      "_view_name": "LayoutView",
      "align_content": null,
      "align_items": null,
      "align_self": null,
      "border": null,
      "bottom": null,
      "display": null,
      "flex": null,
      "flex_flow": null,
      "grid_area": null,
      "grid_auto_columns": null,
      "grid_auto_flow": null,
      "grid_auto_rows": null,
      "grid_column": null,
      "grid_gap": null,
      "grid_row": null,
      "grid_template_areas": null,
      "grid_template_columns": null,
      "grid_template_rows": null,
      "height": null,
      "justify_content": null,
      "justify_items": null,
      "left": null,
      "margin": null,
      "max_height": null,
      "max_width": null,
      "min_height": null,
      "min_width": null,
      "object_fit": null,
      "object_position": null,
      "order": null,
      "overflow": null,
      "overflow_x": null,
      "overflow_y": null,
      "padding": null,
      "right": null,
      "top": null,
      "visibility": null,
      "width": null
     }
    },
    "a84115cb7e7f4a208b3bc5c05cf3182a": {
     "model_module": "@jupyter-widgets/controls",
     "model_name": "HTMLModel",
     "state": {
      "_dom_classes": [],
      "_model_module": "@jupyter-widgets/controls",
      "_model_module_version": "1.5.0",
      "_model_name": "HTMLModel",
      "_view_count": null,
      "_view_module": "@jupyter-widgets/controls",
      "_view_module_version": "1.5.0",
      "_view_name": "HTMLView",
      "description": "",
      "description_tooltip": null,
      "layout": "IPY_MODEL_31d33cdacaec4823b343d01aed93039b",
      "placeholder": "​",
      "style": "IPY_MODEL_5032076e2939487bad098b5fdbfc51a6",
      "value": " 4622/4622 [00:35&lt;00:00, 129.28it/s]"
     }
    },
    "a8f357035671411f9f43a131c8f6fe14": {
     "model_module": "@jupyter-widgets/base",
     "model_name": "LayoutModel",
     "state": {
      "_model_module": "@jupyter-widgets/base",
      "_model_module_version": "1.2.0",
      "_model_name": "LayoutModel",
      "_view_count": null,
      "_view_module": "@jupyter-widgets/base",
      "_view_module_version": "1.2.0",
      "_view_name": "LayoutView",
      "align_content": null,
      "align_items": null,
      "align_self": null,
      "border": null,
      "bottom": null,
      "display": null,
      "flex": null,
      "flex_flow": null,
      "grid_area": null,
      "grid_auto_columns": null,
      "grid_auto_flow": null,
      "grid_auto_rows": null,
      "grid_column": null,
      "grid_gap": null,
      "grid_row": null,
      "grid_template_areas": null,
      "grid_template_columns": null,
      "grid_template_rows": null,
      "height": null,
      "justify_content": null,
      "justify_items": null,
      "left": null,
      "margin": null,
      "max_height": null,
      "max_width": null,
      "min_height": null,
      "min_width": null,
      "object_fit": null,
      "object_position": null,
      "order": null,
      "overflow": null,
      "overflow_x": null,
      "overflow_y": null,
      "padding": null,
      "right": null,
      "top": null,
      "visibility": null,
      "width": null
     }
    },
    "a962ba1a63ab4717b4eec2a6f9de1603": {
     "model_module": "@jupyter-widgets/controls",
     "model_name": "ProgressStyleModel",
     "state": {
      "_model_module": "@jupyter-widgets/controls",
      "_model_module_version": "1.5.0",
      "_model_name": "ProgressStyleModel",
      "_view_count": null,
      "_view_module": "@jupyter-widgets/base",
      "_view_module_version": "1.2.0",
      "_view_name": "StyleView",
      "bar_color": null,
      "description_width": "initial"
     }
    },
    "b7d9bcbca2d64b97b38be7a85a485bc6": {
     "model_module": "@jupyter-widgets/controls",
     "model_name": "FloatProgressModel",
     "state": {
      "_dom_classes": [],
      "_model_module": "@jupyter-widgets/controls",
      "_model_module_version": "1.5.0",
      "_model_name": "FloatProgressModel",
      "_view_count": null,
      "_view_module": "@jupyter-widgets/controls",
      "_view_module_version": "1.5.0",
      "_view_name": "ProgressView",
      "bar_style": "success",
      "description": "100%",
      "description_tooltip": null,
      "layout": "IPY_MODEL_f4d7c0439e26447688c7b7f120d40f7b",
      "max": 4622,
      "min": 0,
      "orientation": "horizontal",
      "style": "IPY_MODEL_d8b5f82a58964e469bb7471c538ff770",
      "value": 4622
     }
    },
    "cd04527e3cbd4147ba3e124b779dc803": {
     "model_module": "@jupyter-widgets/controls",
     "model_name": "HBoxModel",
     "state": {
      "_dom_classes": [],
      "_model_module": "@jupyter-widgets/controls",
      "_model_module_version": "1.5.0",
      "_model_name": "HBoxModel",
      "_view_count": null,
      "_view_module": "@jupyter-widgets/controls",
      "_view_module_version": "1.5.0",
      "_view_name": "HBoxView",
      "box_style": "",
      "children": [
       "IPY_MODEL_070f75f246dd49d38547780d421e7ef8",
       "IPY_MODEL_cff6bc6015434aadaa2ef15b35c3b836"
      ],
      "layout": "IPY_MODEL_824c3d33e06247abbc53e3f08ea280c8"
     }
    },
    "cff6bc6015434aadaa2ef15b35c3b836": {
     "model_module": "@jupyter-widgets/controls",
     "model_name": "HTMLModel",
     "state": {
      "_dom_classes": [],
      "_model_module": "@jupyter-widgets/controls",
      "_model_module_version": "1.5.0",
      "_model_name": "HTMLModel",
      "_view_count": null,
      "_view_module": "@jupyter-widgets/controls",
      "_view_module_version": "1.5.0",
      "_view_name": "HTMLView",
      "description": "",
      "description_tooltip": null,
      "layout": "IPY_MODEL_4b3b61d7357648639f3f63af7933da43",
      "placeholder": "​",
      "style": "IPY_MODEL_6af5d4ae3f2846a8b459960c124f2688",
      "value": " 4622/4622 [00:35&lt;00:00, 130.50it/s]"
     }
    },
    "d0ef48c3ff70420ab5c4eac35cafcf32": {
     "model_module": "@jupyter-widgets/controls",
     "model_name": "FloatProgressModel",
     "state": {
      "_dom_classes": [],
      "_model_module": "@jupyter-widgets/controls",
      "_model_module_version": "1.5.0",
      "_model_name": "FloatProgressModel",
      "_view_count": null,
      "_view_module": "@jupyter-widgets/controls",
      "_view_module_version": "1.5.0",
      "_view_name": "ProgressView",
      "bar_style": "success",
      "description": "100%",
      "description_tooltip": null,
      "layout": "IPY_MODEL_1c8d4e6d66414dad8f51c03ede0ad8af",
      "max": 4622,
      "min": 0,
      "orientation": "horizontal",
      "style": "IPY_MODEL_99b63f9347af4aa1847d8b0049d22d09",
      "value": 4622
     }
    },
    "d60bd90323dc4300b52e5827c69186b3": {
     "model_module": "@jupyter-widgets/base",
     "model_name": "LayoutModel",
     "state": {
      "_model_module": "@jupyter-widgets/base",
      "_model_module_version": "1.2.0",
      "_model_name": "LayoutModel",
      "_view_count": null,
      "_view_module": "@jupyter-widgets/base",
      "_view_module_version": "1.2.0",
      "_view_name": "LayoutView",
      "align_content": null,
      "align_items": null,
      "align_self": null,
      "border": null,
      "bottom": null,
      "display": null,
      "flex": null,
      "flex_flow": null,
      "grid_area": null,
      "grid_auto_columns": null,
      "grid_auto_flow": null,
      "grid_auto_rows": null,
      "grid_column": null,
      "grid_gap": null,
      "grid_row": null,
      "grid_template_areas": null,
      "grid_template_columns": null,
      "grid_template_rows": null,
      "height": null,
      "justify_content": null,
      "justify_items": null,
      "left": null,
      "margin": null,
      "max_height": null,
      "max_width": null,
      "min_height": null,
      "min_width": null,
      "object_fit": null,
      "object_position": null,
      "order": null,
      "overflow": null,
      "overflow_x": null,
      "overflow_y": null,
      "padding": null,
      "right": null,
      "top": null,
      "visibility": null,
      "width": null
     }
    },
    "d8b5f82a58964e469bb7471c538ff770": {
     "model_module": "@jupyter-widgets/controls",
     "model_name": "ProgressStyleModel",
     "state": {
      "_model_module": "@jupyter-widgets/controls",
      "_model_module_version": "1.5.0",
      "_model_name": "ProgressStyleModel",
      "_view_count": null,
      "_view_module": "@jupyter-widgets/base",
      "_view_module_version": "1.2.0",
      "_view_name": "StyleView",
      "bar_color": null,
      "description_width": "initial"
     }
    },
    "db0603691ec2492e9530b761b17a56ff": {
     "model_module": "@jupyter-widgets/controls",
     "model_name": "DescriptionStyleModel",
     "state": {
      "_model_module": "@jupyter-widgets/controls",
      "_model_module_version": "1.5.0",
      "_model_name": "DescriptionStyleModel",
      "_view_count": null,
      "_view_module": "@jupyter-widgets/base",
      "_view_module_version": "1.2.0",
      "_view_name": "StyleView",
      "description_width": ""
     }
    },
    "eec120220dd14f8a8ec7ab12c28b9196": {
     "model_module": "@jupyter-widgets/controls",
     "model_name": "FloatProgressModel",
     "state": {
      "_dom_classes": [],
      "_model_module": "@jupyter-widgets/controls",
      "_model_module_version": "1.5.0",
      "_model_name": "FloatProgressModel",
      "_view_count": null,
      "_view_module": "@jupyter-widgets/controls",
      "_view_module_version": "1.5.0",
      "_view_name": "ProgressView",
      "bar_style": "success",
      "description": "100%",
      "description_tooltip": null,
      "layout": "IPY_MODEL_453efb16560a4c8096e63b3425696bac",
      "max": 4622,
      "min": 0,
      "orientation": "horizontal",
      "style": "IPY_MODEL_a962ba1a63ab4717b4eec2a6f9de1603",
      "value": 4622
     }
    },
    "f4d7c0439e26447688c7b7f120d40f7b": {
     "model_module": "@jupyter-widgets/base",
     "model_name": "LayoutModel",
     "state": {
      "_model_module": "@jupyter-widgets/base",
      "_model_module_version": "1.2.0",
      "_model_name": "LayoutModel",
      "_view_count": null,
      "_view_module": "@jupyter-widgets/base",
      "_view_module_version": "1.2.0",
      "_view_name": "LayoutView",
      "align_content": null,
      "align_items": null,
      "align_self": null,
      "border": null,
      "bottom": null,
      "display": null,
      "flex": null,
      "flex_flow": null,
      "grid_area": null,
      "grid_auto_columns": null,
      "grid_auto_flow": null,
      "grid_auto_rows": null,
      "grid_column": null,
      "grid_gap": null,
      "grid_row": null,
      "grid_template_areas": null,
      "grid_template_columns": null,
      "grid_template_rows": null,
      "height": null,
      "justify_content": null,
      "justify_items": null,
      "left": null,
      "margin": null,
      "max_height": null,
      "max_width": null,
      "min_height": null,
      "min_width": null,
      "object_fit": null,
      "object_position": null,
      "order": null,
      "overflow": null,
      "overflow_x": null,
      "overflow_y": null,
      "padding": null,
      "right": null,
      "top": null,
      "visibility": null,
      "width": null
     }
    }
   }
  }
 },
 "nbformat": 4,
 "nbformat_minor": 1
}
